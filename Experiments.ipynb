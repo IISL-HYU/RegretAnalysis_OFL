{
 "cells": [
  {
   "cell_type": "markdown",
   "metadata": {},
   "source": [
    "## Regret Analysis of OFL - \\<Performance Experiments\\>"
   ]
  },
  {
   "cell_type": "markdown",
   "metadata": {},
   "source": [
    "### 1. Environment Setting"
   ]
  },
  {
   "cell_type": "code",
   "execution_count": 2,
   "metadata": {},
   "outputs": [
    {
     "name": "stdout",
     "output_type": "stream",
     "text": [
      "3 777 0.08615903990710687 0.3446361596284275\n"
     ]
    }
   ],
   "source": [
    "import  torch\n",
    "import  numpy as np\n",
    "import  matplotlib.pyplot as plt\n",
    "from    keras import datasets\n",
    "import  import_ipynb\n",
    "\n",
    "from RegretBound import opt_param\n",
    "from data import MNIST_data, Air_data, Syn_data\n",
    "from model import OFL_Model\n",
    "from utils import sigma_diff\n",
    "\n",
    "K = 1000        # Number of clients\n",
    "D = 34826       # number of parameters\n",
    "P = 0.01        # Com. overhead reduction rate from FedOGD\n",
    "L = 4           # Local training time (Batch Size)\n",
    "\n",
    "s, _, b, p = opt_param(P, D, show_result=False)\n",
    "p2 = p * L\n",
    "print(s, b, p, p2)"
   ]
  },
  {
   "cell_type": "markdown",
   "metadata": {},
   "source": [
    "### 2. Experiment Setting"
   ]
  },
  {
   "cell_type": "code",
   "execution_count": 3,
   "metadata": {},
   "outputs": [
    {
     "name": "stderr",
     "output_type": "stream",
     "text": [
      "2022-11-15 13:46:58.585258: I tensorflow/core/platform/cpu_feature_guard.cc:151] This TensorFlow binary is optimized with oneAPI Deep Neural Network Library (oneDNN) to use the following CPU instructions in performance-critical operations:  AVX2 FMA\n",
      "To enable them in other operations, rebuild TensorFlow with the appropriate compiler flags.\n"
     ]
    }
   ],
   "source": [
    "#MNIST\n",
    "x_train, y_train, input_size = MNIST_data(iid=True, shuffle=False)\n",
    "x_train_2, y_train_2, input_size = MNIST_data(False, False)\n",
    "x_train_3, y_train_3, input_size = MNIST_data(False, True)\n",
    "task = 'clf'\n",
    "\n",
    "#Air\n",
    "# x_train, y_train, input_size = Air_data()\n",
    "# task = 'reg'\n",
    "\n",
    "#Synthetic data\n",
    "# x_train, y_train = pull_Syn_data('Syn', 0)\n",
    "# task = ''\n",
    "\n",
    "Model_list = []\n",
    "\n",
    "Model_list.append(OFL_Model('FedOGD', task, K, [False, 0, 0], 1, 1, input_size))\n",
    "Model_list.append(OFL_Model('FedOGD_2', task, K, [False, 0, 0], 1, 1, input_size))\n",
    "Model_list.append(OFL_Model('FedOGD_3', task, K, [False, 0, 0], 1, 1, input_size))\n",
    "# Model_list.append(OFL_Model('OFedAvg', task, K, [False, 0, 0], P, 1, input_size))\n",
    "# Model_list.append(OFL_Model('OFedIQ', task, K, [True, s, b], p, 1, input_size))\n",
    "# Model_list.append(OFL_Model('OFedIQ(L)', task, K, [True, s, b], p2, L, input_size))\n",
    "\n"
   ]
  },
  {
   "cell_type": "markdown",
   "metadata": {},
   "source": [
    "### 3. Training"
   ]
  },
  {
   "cell_type": "code",
   "execution_count": 11,
   "metadata": {},
   "outputs": [
    {
     "name": "stdout",
     "output_type": "stream",
     "text": [
      "0,1,2,3,4,5,6,7,8,9,10,11,12,13,14,15,16,17,18,19,20,21,22,23,24,25,26,27,28,29,30,31,32,33,34,35,36,37,0,1,2,3,4,5,6,7,8,9,10,11,12,13,14,15,16,17,18,19,20,21,22,23,24,25,26,27,28,29,30,31,32,33,34,35,36,37,0,1,2,3,4,5,6,7,8,9,10,11,12,13,14,15,16,17,18,19,20,21,22,23,24,25,26,27,28,29,30,31,32,33,34,35,36,37,0,1,2,3,4,5,6,7,8,9,10,11,12,13,14,15,16,17,18,19,20,21,22,23,24,25,26,27,28,29,30,31,32,33,34,35,36,37,0,1,2,3,4,5,6,7,8,9,10,11,12,13,14,15,16,17,18,19,20,21,22,23,24,25,26,27,28,29,30,31,32,33,34,35,36,37,0,1,2,3,4,5,6,7,8,9,10,11,12,13,14,15,16,17,18,19,20,21,22,23,24,25,26,27,28,29,30,31,32,33,34,35,36,37,0,1,2,3,4,5,6,7,8,9,10,11,12,13,14,15,16,17,18,19,20,21,22,23,24,25,26,27,28,29,30,31,32,33,34,35,36,37,0,1,2,3,4,5,6,7,8,9,10,11,12,13,14,15,16,17,18,19,20,21,22,23,24,25,26,27,28,29,30,31,32,33,34,35,36,37,0,1,2,3,4,5,6,7,8,9,10,11,12,13,14,15,16,17,18,19,20,21,22,23,24,25,26,27,28,29,30,31,32,33,34,35,36,37,0,1,2,3,4,5,6,7,8,9,10,11,12,13,14,15,16,17,18,19,20,21,22,23,24,25,26,27,28,29,30,31,32,33,34,35,36,37,0,1,2,3,4,5,6,7,8,9,10,11,12,13,14,15,16,17,18,19,20,21,22,23,24,25,26,27,28,29,30,31,32,33,34,35,36,37,0,1,2,3,4,5,6,7,8,9,10,11,12,13,14,15,16,17,18,19,20,21,22,23,24,25,26,27,28,29,30,31,32,33,34,35,36,37,0,1,2,3,4,5,6,7,8,9,10,11,12,13,14,15,16,17,18,19,20,21,22,23,24,25,26,27,28,29,30,31,32,33,34,35,36,37,0,1,2,3,4,5,6,7,8,9,10,11,12,13,14,15,16,17,18,19,20,21,22,23,24,25,26,27,28,29,30,31,32,33,34,35,36,37,0,1,2,3,4,5,6,7,8,9,10,11,12,13,14,15,16,17,18,19,20,21,22,23,24,25,26,27,28,29,30,31,32,33,34,35,36,37,0,1,2,3,4,5,6,7,8,9,10,11,12,13,14,15,16,17,18,19,20,21,22,23,24,25,26,27,28,29,30,31,32,33,34,35,36,37,0,1,2,3,4,5,6,7,8,9,10,11,12,13,14,15,16,17,18,19,20,21,22,23,24,25,26,27,28,29,30,31,32,33,34,35,36,37,0,1,2,3,4,5,6,7,8,9,10,11,12,13,14,15,16,17,18,19,20,21,22,23,24,25,26,27,28,29,30,31,32,33,34,35,36,37,0,1,2,3,4,5,6,7,8,9,10,11,12,13,14,15,16,17,18,19,20,21,22,23,24,25,26,27,28,29,30,31,32,33,34,35,36,37,0,1,2,3,4,5,6,7,8,9,10,11,12,13,14,15,16,17,18,19,20,21,22,23,24,25,26,27,28,29,30,31,32,33,34,35,36,37,0,1,2,3,4,5,6,7,8,9,10,11,12,13,14,15,16,17,18,19,20,21,22,23,24,25,26,27,28,29,30,31,32,33,34,35,36,37,0,1,2,3,4,5,6,7,8,9,10,11,12,13,14,15,16,17,18,19,20,21,22,23,24,25,26,27,28,29,30,31,32,33,34,35,36,37,0,1,2,3,4,5,6,7,8,9,10,11,12,13,14,15,16,17,18,19,20,21,22,23,24,25,26,27,28,29,30,31,32,33,34,35,36,37,0,1,2,3,4,5,6,7,8,9,10,11,12,13,14,15,16,17,18,19,20,21,22,23,24,25,26,27,28,29,30,31,32,33,34,35,36,37,0,1,2,3,4,5,6,7,8,9,10,11,12,13,14,15,16,17,18,19,20,21,22,23,24,25,26,27,28,29,30,31,32,33,34,35,36,37,0,1,2,3,4,5,6,7,8,9,10,11,12,13,14,15,16,17,18,19,20,21,22,23,24,25,26,27,28,29,30,31,32,33,34,35,36,37,0,1,2,3,4,5,6,7,8,9,10,11,12,13,14,15,16,17,18,19,20,21,22,23,24,25,26,27,28,29,30,31,32,33,34,35,36,37,0,1,2,3,4,5,6,7,8,9,10,11,12,13,14,15,16,17,18,19,20,21,22,23,24,25,26,27,28,29,30,31,32,33,34,35,36,37,0,1,2,3,4,5,6,7,8,9,10,11,12,13,14,15,16,17,18,19,20,21,22,23,24,25,26,27,28,29,30,31,32,33,34,35,36,37,0,1,2,3,4,5,6,7,8,9,10,11,12,13,14,15,16,17,18,19,20,21,22,23,24,25,26,27,28,29,30,31,32,33,34,35,36,37,0,1,2,3,4,5,6,7,8,9,10,11,12,13,14,15,16,17,18,19,20,21,22,23,24,25,26,27,28,29,30,31,32,33,34,35,36,37,0,1,2,3,4,5,6,7,8,9,10,11,12,13,14,15,16,17,18,19,20,21,22,23,24,25,26,27,28,29,30,31,32,33,34,35,36,37,0,1,2,3,4,5,6,7,8,9,10,11,12,13,14,15,16,17,18,19,20,21,22,23,24,25,26,27,28,29,30,31,32,33,34,35,36,37,0,1,2,3,4,5,6,7,8,9,10,11,12,13,14,15,16,17,18,19,20,21,22,23,24,25,26,27,28,29,30,31,32,33,34,35,36,37,0,1,2,3,4,5,6,7,8,9,10,11,12,13,14,15,16,17,18,19,20,21,22,23,24,25,26,27,28,29,30,31,32,33,34,35,36,37,0,1,2,3,4,5,6,7,8,9,10,11,12,13,14,15,16,17,18,19,20,21,22,23,24,25,26,27,28,29,30,31,32,33,34,35,36,37,"
     ]
    }
   ],
   "source": [
    "# for model in Model_list:\n",
    "#     for iter in range(15):\n",
    "#         for i in range(60):\n",
    "#             model.train(x_train[K*i : K*(i+1)], y_train[K*i : K*(i+1)], (i+1) % model.L)\n",
    "#         print(i, end =',')\n",
    "\n",
    "model = Model_list[0]\n",
    "for iter in range(10):\n",
    "    for i in range(60):\n",
    "        model.train(x_train[K*i : K*(i+1)], y_train[K*i : K*(i+1)], (i+1) % model.L)\n",
    "    print(i, end =',')\n",
    "print()\n",
    "\n",
    "model = Model_list[1]\n",
    "for iter in range(10):\n",
    "    for i in range(60):\n",
    "        model.train(x_train_2[K*i : K*(i+1)], y_train_2[K*i : K*(i+1)], (i+1) % model.L)\n",
    "    print(i, end =',')\n",
    "print()\n",
    "\n",
    "model = Model_list[2]\n",
    "for iter in range(10):\n",
    "    for i in range(60):\n",
    "        model.train(x_train_3[K*i : K*(i+1)], y_train_3[K*i : K*(i+1)], (i+1) % model.L)\n",
    "    print(i, end =',')\n",
    "\n",
    "result_list = []\n",
    "for model in Model_list:\n",
    "    result_list.append(model.pull_result())"
   ]
  },
  {
   "cell_type": "markdown",
   "metadata": {},
   "source": [
    "### 3. Save Result"
   ]
  },
  {
   "cell_type": "code",
   "execution_count": 5,
   "metadata": {},
   "outputs": [],
   "source": [
    "import pickle\n",
    "\n",
    "code = input(\"Code: \")\n",
    "\n",
    "for i, model in enumerate(Model_list):\n",
    "    name = model.name\n",
    "    with open(f\"./result/{task}_{name}_{code}.pkl\",\"wb\") as f:\n",
    "        pickle.dump(result_list[i], f)"
   ]
  },
  {
   "cell_type": "markdown",
   "metadata": {},
   "source": [
    "### 4. Plot Result"
   ]
  },
  {
   "cell_type": "code",
   "execution_count": 10,
   "metadata": {},
   "outputs": [
    {
     "name": "stderr",
     "output_type": "stream",
     "text": [
      "/var/folders/6h/r86dmwyj6ygczrnpndmvt1pr0000gp/T/ipykernel_19649/1442477019.py:30: UserWarning: Attempted to set non-positive bottom ylim on a log-scaled axis.\n",
      "Invalid limit will be ignored.\n",
      "  plt.ylim([0,0.1])\n"
     ]
    },
    {
     "data": {
      "image/png": "[encoded data removed]",
      "text/plain": [
       "<Figure size 640x480 with 1 Axes>"
      ]
     },
     "metadata": {},
     "output_type": "display_data"
    }
   ],
   "source": [
    "import matplotlib.pyplot  as plt\n",
    "\n",
    "task = 'clf'\n",
    "code = input('Code:')\n",
    "\n",
    "with open(f\"./result/{task}_FedOGD_{code}.pkl\", \"rb\") as f:\n",
    "    r1 = pickle.load(f)\n",
    "with open(f\"./result/{task}_OFedAvg_{code}.pkl\", \"rb\") as f:\n",
    "    r2 = pickle.load(f)\n",
    "with open(f\"./result/{task}_OFedIQ_{code}.pkl\", \"rb\") as f:\n",
    "    r3 = pickle.load(f)\n",
    "with open(f\"./result/{task}_OFedIQ(L)_{code}.pkl\", \"rb\") as f:\n",
    "    r4 = pickle.load(f)\n",
    "\n",
    "l1 = list(range(len(r1))) \n",
    "l2 = list(range(len(r2)))\n",
    "l3 = list(range(len(r3)))\n",
    "l4 = list(range(len(r4)))\n",
    "\n",
    "plt.plot(l1, r1, 'black', label=r'FedOGD')\n",
    "plt.plot(l2, r2, 'red', label=r'OFedAvg ($\\mathdefault{p=0.01}$)')\n",
    "plt.plot(l3, r3, 'blue', label=r'OFedIQ ($\\mathdefault{p=0.08616, L=1}$)')\n",
    "plt.plot(l4, r4, 'green', label=r'OFedIQ ($\\mathdefault{p=0.344634, L=4}$)')\n",
    "\n",
    "plt.xlabel('time step')\n",
    "\n",
    "if task == 'clf':\n",
    "    plt.ylabel('Accuracy')\n",
    "elif task == 'reg':\n",
    "    plt.ylabel('Loss')\n",
    "    plt.yscale(\"log\")\n",
    "\n",
    "plt.ylim([0,0.1])\n",
    "plt.rcParams[\"font.family\"] = \"Times New Roman\"\n",
    "plt.grid()\n",
    "plt.legend()\n",
    "\n",
    "plt.savefig(f'./Figures/{task}_{code}_1.png', dpi=200, facecolor=\"white\")\n",
    "plt.show()"
   ]
  },
  {
   "cell_type": "markdown",
   "metadata": {},
   "source": [
    "### 5. $\\sigma_{\\rm diff}$"
   ]
  },
  {
   "cell_type": "code",
   "execution_count": 16,
   "metadata": {},
   "outputs": [
    {
     "name": "stdout",
     "output_type": "stream",
     "text": [
      "12.626342124166777\n"
     ]
    }
   ],
   "source": [
    "x_train, y_train = MNIST_data()\n",
    "sigma = sigma_diff(Model_list[0], x_train, y_train, 60)\n",
    "print(sigma)"
   ]
  },
  {
   "cell_type": "markdown",
   "metadata": {},
   "source": [
    "FedOGD w/ iid data: 7.069452932191554\n",
    "\n",
    "FedOGD w/ non-iid data: 12.626342124166777"
   ]
  }
 ],
 "metadata": {
  "kernelspec": {
   "display_name": "Python 3.8.8 ('base')",
   "language": "python",
   "name": "python3"
  },
  "language_info": {
   "codemirror_mode": {
    "name": "ipython",
    "version": 3
   },
   "file_extension": ".py",
   "mimetype": "text/x-python",
   "name": "python",
   "nbconvert_exporter": "python",
   "pygments_lexer": "ipython3",
   "version": "3.8.8"
  },
  "orig_nbformat": 4,
  "vscode": {
   "interpreter": {
    "hash": "cc4d55d52d1114a871817dc9d2b4e4d90b6d108a695844ce0d6cbea98b4fea22"
   }
  }
 },
 "nbformat": 4,
 "nbformat_minor": 2
}
