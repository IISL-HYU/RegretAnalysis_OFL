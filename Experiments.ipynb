{
 "cells": [
  {
   "cell_type": "markdown",
   "metadata": {},
   "source": [
    "## Regret Analysis of OFL - \\<Performance Experiments\\>"
   ]
  },
  {
   "cell_type": "markdown",
   "metadata": {},
   "source": [
    "### 1. Environment Setting"
   ]
  },
  {
   "cell_type": "code",
   "execution_count": 2,
   "metadata": {},
   "outputs": [
    {
     "name": "stdout",
     "output_type": "stream",
     "text": [
      "3 777 0.08615903990710687 0.3446361596284275\n"
     ]
    }
   ],
   "source": [
    "import  torch\n",
    "import  numpy as np\n",
    "import  matplotlib.pyplot as plt\n",
    "from    keras import datasets\n",
    "import  import_ipynb\n",
    "\n",
    "from RegretBound import opt_param\n",
    "from data import MNIST_data, Air_data, Syn_data\n",
    "from model import OFL_Model\n",
    "from utils import sigma_diff\n",
    "\n",
    "K = 1000        # Number of clients\n",
    "D = 34826       # number of parameters\n",
    "P = 0.01        # Com. overhead reduction rate from FedOGD\n",
    "L = 4           # Local training time (Batch Size)\n",
    "\n",
    "s, _, b, p = opt_param(P, D, show_result=False)\n",
    "p2 = p * L\n",
    "print(s, b, p, p2)"
   ]
  },
  {
   "cell_type": "markdown",
   "metadata": {},
   "source": [
    "### 2. Experiment Setting"
   ]
  },
  {
   "cell_type": "code",
   "execution_count": 4,
   "metadata": {},
   "outputs": [
    {
     "name": "stderr",
     "output_type": "stream",
     "text": [
      "2022-11-09 18:21:00.621226: I tensorflow/core/platform/cpu_feature_guard.cc:151] This TensorFlow binary is optimized with oneAPI Deep Neural Network Library (oneDNN) to use the following CPU instructions in performance-critical operations:  AVX2 FMA\n",
      "To enable them in other operations, rebuild TensorFlow with the appropriate compiler flags.\n"
     ]
    }
   ],
   "source": [
    "#MNIST\n",
    "x_train, y_train = MNIST_data(iid=False)\n",
    "task = 'clf'\n",
    "\n",
    "#Air\n",
    "# x_train, y_train, input_size = Air_data()\n",
    "# task = 'reg'\n",
    "\n",
    "#Synthetic data\n",
    "# x_train, y_train = pull_Syn_data('Syn', 0)\n",
    "# task = ''\n",
    "\n",
    "Model_list = []\n",
    "\n",
    "Model_list.append(OFL_Model('FedOGD', task, K, [False, 0, 0], 1, 1, 0))\n",
    "# Model_list.append(OFL_Model('OFedAvg', task, K, [False, 0, 0], P, 1, 0))\n",
    "# Model_list.append(OFL_Model('OFedPQ', task, K, [True, s, b], p, 1, 0))\n",
    "# Model_list.append(OFL_Model('OFedPAQ', task, K, [True, s, b], p2, L, 0))\n",
    "\n",
    "# i range -> len(y_train) / K"
   ]
  },
  {
   "cell_type": "markdown",
   "metadata": {},
   "source": [
    "### 3. Training"
   ]
  },
  {
   "cell_type": "code",
   "execution_count": 5,
   "metadata": {},
   "outputs": [
    {
     "name": "stdout",
     "output_type": "stream",
     "text": [
      "0,1,2,3,4,5,6,7,8,9,10,11,12,13,14,"
     ]
    }
   ],
   "source": [
    "for model in Model_list:\n",
    "    for iter in range(15):\n",
    "        for i in range(60):\n",
    "            model.train(x_train[K*i : K*(i+1)], y_train[K*i : K*(i+1)], (i+1) % model.L)\n",
    "        print(iter, end =',')\n",
    "\n",
    "result_list = []\n",
    "for model in Model_list:\n",
    "    result_list.append(model.pull_result())"
   ]
  },
  {
   "cell_type": "markdown",
   "metadata": {},
   "source": [
    "### 3. Save Result"
   ]
  },
  {
   "cell_type": "code",
   "execution_count": 6,
   "metadata": {},
   "outputs": [],
   "source": [
    "import pickle\n",
    "\n",
    "code = input(\"Code: \")\n",
    "\n",
    "for i, model in enumerate(Model_list):\n",
    "    name = model.name\n",
    "    with open(f\"./result/{task}_{name}_{code}.pkl\",\"wb\") as f:\n",
    "        pickle.dump(result_list[i], f)"
   ]
  },
  {
   "cell_type": "markdown",
   "metadata": {},
   "source": [
    "### 4. Plot Result"
   ]
  },
  {
   "cell_type": "code",
   "execution_count": 9,
   "metadata": {},
   "outputs": [
    {
     "data": {
      "image/png": "[encoded data removed]",
      "text/plain": [
       "<Figure size 432x288 with 1 Axes>"
      ]
     },
     "metadata": {
      "needs_background": "light"
     },
     "output_type": "display_data"
    }
   ],
   "source": [
    "code = input('Code:')\n",
    "\n",
    "with open(f\"./result/{task}_FedOGD_{code}.pkl\", \"rb\") as f:\n",
    "    r1 = pickle.load(f)\n",
    "# with open(f\"./result/{task}_OFedAvg_{code}.pkl\", \"rb\") as f:\n",
    "#     r2 = pickle.load(f)\n",
    "# with open(f\"./result/{task}_OFedPQ_{code}.pkl\", \"rb\") as f:\n",
    "#     r3 = pickle.load(f)\n",
    "# with open(f\"./result/{task}_OFedPAQ_{code}.pkl\", \"rb\") as f:\n",
    "#     r4 = pickle.load(f)\n",
    "\n",
    "l1 = list(range(len(r1))) \n",
    "# l2 = list(range(len(r2)))\n",
    "# l3 = list(range(len(r3)))\n",
    "# l4 = list(range(len(r4)))\n",
    "\n",
    "plt.plot(l1, r1, 'black', label=r'FedOGD')\n",
    "# plt.plot(l2, r2, 'red', label=r'OFedAvg ($\\mathdefault{p=0.01}$)')\n",
    "# plt.plot(l3, r3, 'blue', label=r'OFedPQ ($\\mathdefault{p=0.08616}$)')\n",
    "# plt.plot(l4, r4, 'green', label=r'OFedPAQ ($\\mathdefault{p=0.344634}$)')\n",
    "\n",
    "plt.xlabel('learning time')\n",
    "\n",
    "if task == 'clf':\n",
    "    plt.ylabel('Accuracy')\n",
    "elif task == 'reg':\n",
    "    plt.ylabel('Loss')\n",
    "\n",
    "plt.rcParams[\"font.family\"] = \"Times New Roman\"\n",
    "plt.grid()\n",
    "plt.legend()\n",
    "\n",
    "plt.savefig(f'./Figures/{task}_{code}.png', dpi=200, facecolor=\"white\")\n",
    "plt.show()"
   ]
  },
  {
   "cell_type": "markdown",
   "metadata": {},
   "source": [
    "### 5. $\\sigma_{\\rm diff}$"
   ]
  },
  {
   "cell_type": "code",
   "execution_count": 8,
   "metadata": {},
   "outputs": [
    {
     "ename": "IndexError",
     "evalue": "index 1000 is out of bounds for axis 0 with size 1000",
     "output_type": "error",
     "traceback": [
      "\u001b[0;31m---------------------------------------------------------------------------\u001b[0m",
      "\u001b[0;31mIndexError\u001b[0m                                Traceback (most recent call last)",
      "\u001b[1;32m/Users/kwondohyeok/Desktop/RegretAnalysis_OFL/Experiments.ipynb Cell 13\u001b[0m in \u001b[0;36m<module>\u001b[0;34m\u001b[0m\n\u001b[0;32m----> <a href='vscode-notebook-cell:/Users/kwondohyeok/Desktop/RegretAnalysis_OFL/Experiments.ipynb#X20sZmlsZQ%3D%3D?line=0'>1</a>\u001b[0m sigma \u001b[39m=\u001b[39m sigma_diff(Model_list[\u001b[39m0\u001b[39;49m], x_train, y_train, \u001b[39m60\u001b[39;49m)\n\u001b[1;32m      <a href='vscode-notebook-cell:/Users/kwondohyeok/Desktop/RegretAnalysis_OFL/Experiments.ipynb#X20sZmlsZQ%3D%3D?line=1'>2</a>\u001b[0m \u001b[39mprint\u001b[39m(sigma)\n",
      "File \u001b[0;32m~/Desktop/RegretAnalysis_OFL/utils.py:75\u001b[0m, in \u001b[0;36msigma_diff\u001b[0;34m(model, x_train, y_train, iter)\u001b[0m\n\u001b[1;32m     73\u001b[0m \u001b[39mwith\u001b[39;00m tf\u001b[39m.\u001b[39mGradientTape() \u001b[39mas\u001b[39;00m tape:\n\u001b[1;32m     74\u001b[0m     y_pred \u001b[39m=\u001b[39m model[j](x_train[K\u001b[39m*\u001b[39mi\u001b[39m+\u001b[39mj:K\u001b[39m*\u001b[39mi\u001b[39m+\u001b[39mj\u001b[39m+\u001b[39m\u001b[39m1\u001b[39m], training \u001b[39m=\u001b[39m \u001b[39mFalse\u001b[39;00m)\n\u001b[0;32m---> 75\u001b[0m     loss \u001b[39m=\u001b[39m model[j]\u001b[39m.\u001b[39mloss(y_train[K\u001b[39m*\u001b[39;49mi\u001b[39m+\u001b[39;49mj], y_pred)\n\u001b[1;32m     76\u001b[0m gradient \u001b[39m=\u001b[39m tape\u001b[39m.\u001b[39mgradient(loss, model[j]\u001b[39m.\u001b[39mtrainable_variables)\n\u001b[1;32m     77\u001b[0m sigma_sq \u001b[39m+\u001b[39m\u001b[39m=\u001b[39m grad_norm_sq(gradient) \u001b[39m/\u001b[39m K\n",
      "\u001b[0;31mIndexError\u001b[0m: index 1000 is out of bounds for axis 0 with size 1000"
     ]
    }
   ],
   "source": [
    "sigma = sigma_diff(Model_list[0], x_train, y_train, 60)\n",
    "print(sigma)"
   ]
  },
  {
   "cell_type": "markdown",
   "metadata": {},
   "source": [
    "FedOGD w/ iid data: 7.069452932191554\n",
    "FedOGD w/ non-iid data: "
   ]
  },
  {
   "cell_type": "code",
   "execution_count": 18,
   "metadata": {},
   "outputs": [
    {
     "data": {
      "text/plain": [
       "900"
      ]
     },
     "execution_count": 18,
     "metadata": {},
     "output_type": "execute_result"
    }
   ],
   "source": [
    "len(Model_list[0].result_list)"
   ]
  },
  {
   "cell_type": "code",
   "execution_count": 20,
   "metadata": {},
   "outputs": [
    {
     "data": {
      "text/plain": [
       "1000"
      ]
     },
     "execution_count": 20,
     "metadata": {},
     "output_type": "execute_result"
    }
   ],
   "source": [
    "len(y_train)"
   ]
  },
  {
   "cell_type": "code",
   "execution_count": null,
   "metadata": {},
   "outputs": [],
   "source": []
  }
 ],
 "metadata": {
  "kernelspec": {
   "display_name": "Python 3.8.9 64-bit",
   "language": "python",
   "name": "python3"
  },
  "language_info": {
   "codemirror_mode": {
    "name": "ipython",
    "version": 3
   },
   "file_extension": ".py",
   "mimetype": "text/x-python",
   "name": "python",
   "nbconvert_exporter": "python",
   "pygments_lexer": "ipython3",
   "version": "3.8.9"
  },
  "orig_nbformat": 4,
  "vscode": {
   "interpreter": {
    "hash": "31f2aee4e71d21fbe5cf8b01ff0e069b9275f58929596ceb00d14d90e3e16cd6"
   }
  }
 },
 "nbformat": 4,
 "nbformat_minor": 2
}
