{
 "cells": [
  {
   "cell_type": "markdown",
   "metadata": {},
   "source": [
    "## Regret Analysis of OFL - \\<Performance Experiments\\>"
   ]
  },
  {
   "cell_type": "markdown",
   "metadata": {},
   "source": [
    "### 1. Environment Setting"
   ]
  },
  {
   "cell_type": "code",
   "execution_count": 2,
   "metadata": {},
   "outputs": [],
   "source": [
    "import  torch\n",
    "import  numpy as np\n",
    "import  matplotlib.pyplot as plt\n",
    "from    keras import datasets\n",
    "import  import_ipynb\n",
    "\n",
    "from RegretBound import opt_param\n",
    "from data import pull_data\n",
    "from model import FL_Model\n",
    "\n",
    "K = 1000        # Number of clients\n",
    "D = 34826       # number of parameters\n",
    "P = 0.01        # Com. overhead reduction rate from FedOGD\n",
    "L = 1           # Local training time (Batch Size)\n",
    "\n",
    "s, _, b, p = opt_param(P, D, show_result=False)\n",
    "\n",
    "FedOGD_loss = []\n",
    "OFedAvg_loss = []\n",
    "OFedAQ_loss = []\n",
    "\n",
    "FedOGD_acc = []\n",
    "OFedAvg_acc = []\n",
    "OFedAQ_acc = []"
   ]
  },
  {
   "cell_type": "markdown",
   "metadata": {},
   "source": [
    "### 2. Experiment Setting"
   ]
  },
  {
   "cell_type": "code",
   "execution_count": 3,
   "metadata": {},
   "outputs": [
    {
     "name": "stderr",
     "output_type": "stream",
     "text": [
      "2022-10-03 00:27:56.187306: I tensorflow/core/platform/cpu_feature_guard.cc:151] This TensorFlow binary is optimized with oneAPI Deep Neural Network Library (oneDNN) to use the following CPU instructions in performance-critical operations:  AVX2 FMA\n",
      "To enable them in other operations, rebuild TensorFlow with the appropriate compiler flags.\n"
     ]
    }
   ],
   "source": [
    "### Running Time (~2min, iMac 27(2019)) ###\n",
    "\n",
    "#MNIST\n",
    "x_train, y_train, _, _= pull_data()\n",
    "\n",
    "FedOGD = FL_Model(K, False, 1, L)\n",
    "OFedAvg = FL_Model(K, False, P, L)\n",
    "#Synthetic data"
   ]
  },
  {
   "cell_type": "markdown",
   "metadata": {},
   "source": [
    "### 3. Training"
   ]
  },
  {
   "cell_type": "code",
   "execution_count": 4,
   "metadata": {},
   "outputs": [
    {
     "name": "stdout",
     "output_type": "stream",
     "text": [
      "0/60\n",
      "10/60\n",
      "20/60\n",
      "30/60\n",
      "40/60\n",
      "50/60\n",
      "0/60\n",
      "10/60\n",
      "20/60\n",
      "30/60\n",
      "40/60\n",
      "50/60\n",
      "0/60\n",
      "10/60\n",
      "20/60\n",
      "30/60\n",
      "40/60\n",
      "50/60\n",
      "0/60\n",
      "10/60\n",
      "20/60\n",
      "30/60\n",
      "40/60\n",
      "50/60\n",
      "0/60\n",
      "10/60\n",
      "20/60\n",
      "30/60\n",
      "40/60\n",
      "50/60\n",
      "0/60\n",
      "10/60\n",
      "20/60\n",
      "30/60\n",
      "40/60\n",
      "50/60\n",
      "0/60\n",
      "10/60\n",
      "20/60\n",
      "30/60\n",
      "40/60\n",
      "50/60\n",
      "0/60\n",
      "10/60\n",
      "20/60\n",
      "30/60\n",
      "40/60\n",
      "50/60\n",
      "0/60\n",
      "10/60\n",
      "20/60\n",
      "30/60\n",
      "40/60\n",
      "50/60\n",
      "0/60\n",
      "10/60\n",
      "20/60\n",
      "30/60\n",
      "40/60\n",
      "50/60\n",
      "0/60\n",
      "10/60\n",
      "20/60\n",
      "30/60\n",
      "40/60\n",
      "50/60\n",
      "0/60\n",
      "10/60\n",
      "20/60\n",
      "30/60\n",
      "40/60\n",
      "50/60\n",
      "0/60\n",
      "10/60\n",
      "20/60\n",
      "30/60\n",
      "40/60\n",
      "50/60\n",
      "0/60\n",
      "10/60\n",
      "20/60\n",
      "30/60\n",
      "40/60\n",
      "50/60\n",
      "0/60\n",
      "10/60\n",
      "20/60\n",
      "30/60\n",
      "40/60\n",
      "50/60\n",
      "0/60\n",
      "10/60\n",
      "20/60\n",
      "30/60\n",
      "40/60\n",
      "50/60\n",
      "0/60\n",
      "10/60\n",
      "20/60\n",
      "30/60\n",
      "40/60\n",
      "50/60\n",
      "0/60\n",
      "10/60\n",
      "20/60\n",
      "30/60\n",
      "40/60\n",
      "50/60\n",
      "0/60\n",
      "10/60\n",
      "20/60\n",
      "30/60\n",
      "40/60\n",
      "50/60\n",
      "0/60\n",
      "10/60\n",
      "20/60\n",
      "30/60\n",
      "40/60\n",
      "50/60\n",
      "0/60\n",
      "10/60\n",
      "20/60\n",
      "30/60\n",
      "40/60\n",
      "50/60\n",
      "0/60\n",
      "10/60\n",
      "20/60\n",
      "30/60\n",
      "40/60\n",
      "50/60\n",
      "0/60\n",
      "10/60\n",
      "20/60\n",
      "30/60\n",
      "40/60\n",
      "50/60\n",
      "0/60\n",
      "10/60\n",
      "20/60\n",
      "30/60\n",
      "40/60\n",
      "50/60\n",
      "0/60\n",
      "10/60\n",
      "20/60\n",
      "30/60\n",
      "40/60\n",
      "50/60\n",
      "0/60\n",
      "10/60\n",
      "20/60\n",
      "30/60\n",
      "40/60\n",
      "50/60\n",
      "0/60\n",
      "10/60\n",
      "20/60\n",
      "30/60\n",
      "40/60\n",
      "50/60\n",
      "0/60\n",
      "10/60\n",
      "20/60\n",
      "30/60\n",
      "40/60\n",
      "50/60\n",
      "0/60\n",
      "10/60\n",
      "20/60\n",
      "30/60\n",
      "40/60\n",
      "50/60\n",
      "0/60\n",
      "10/60\n",
      "20/60\n",
      "30/60\n",
      "40/60\n",
      "50/60\n"
     ]
    }
   ],
   "source": [
    "#OFedAvg iter 30 -> 3hr\n",
    "\n",
    "for iter in range(30):\n",
    "    for i in range(60):\n",
    "        loss, acc = OFedAvg.train(x_train[K*L*i : K*L*(i+1)], y_train[K*L*i : K*L*(i+1)])\n",
    "        OFedAvg_loss.append(loss)\n",
    "        OFedAvg_acc.append(acc)\n",
    "        if i % 10 == 0:\n",
    "            print('%d/60' %(i))"
   ]
  },
  {
   "cell_type": "code",
   "execution_count": null,
   "metadata": {},
   "outputs": [],
   "source": [
    "# Save Result"
   ]
  },
  {
   "cell_type": "markdown",
   "metadata": {},
   "source": [
    "### 4. Plot Result"
   ]
  },
  {
   "cell_type": "code",
   "execution_count": 8,
   "metadata": {},
   "outputs": [
    {
     "data": {
      "text/plain": [
       "[<matplotlib.lines.Line2D at 0x196efae20>]"
      ]
     },
     "execution_count": 8,
     "metadata": {},
     "output_type": "execute_result"
    },
    {
     "data": {
      "image/png": "[encoded data removed]",
      "text/plain": [
       "<Figure size 432x288 with 1 Axes>"
      ]
     },
     "metadata": {
      "needs_background": "light"
     },
     "output_type": "display_data"
    }
   ],
   "source": [
    "l1 = list(range(len(OFedAvg_loss)))\n",
    "\n",
    "\n",
    "plt.plot(l1, OFedAvg_loss, 'black', label=r'OFedAvg ($\\mathdefault{p=0.1}$)')\n"
   ]
  },
  {
   "cell_type": "code",
   "execution_count": 6,
   "metadata": {},
   "outputs": [
    {
     "data": {
      "text/plain": [
       "[<matplotlib.lines.Line2D at 0x1910f1220>]"
      ]
     },
     "execution_count": 6,
     "metadata": {},
     "output_type": "execute_result"
    },
    {
     "data": {
      "image/png": "[encoded data removed]",
      "text/plain": [
       "<Figure size 432x288 with 1 Axes>"
      ]
     },
     "metadata": {
      "needs_background": "light"
     },
     "output_type": "display_data"
    }
   ],
   "source": [
    "a1 = list(range(len(FedOGD_acc)))\n",
    "a2 = list(range(len(OFedAvg_acc)))\n",
    "plt.plot(a1, FedOGD_acc, 'black', label=r'OFedAvg ($\\mathdefault{p=0.1}$)')\n",
    "plt.plot(a2, OFedAvg_acc, 'red', label=r'OFedAvg ($\\mathdefault{p=0.1}$)')"
   ]
  },
  {
   "cell_type": "code",
   "execution_count": 9,
   "metadata": {},
   "outputs": [],
   "source": [
    "import pickle\n",
    "\n",
    "with open(f\"./OFedAvg_acc.pkl\",\"wb\") as f:\n",
    "    pickle.dump(OFedAvg_acc, f)\n",
    "\n",
    "with open(f\"./OFedAvg_loss.pkl\",\"wb\") as f:\n",
    "    pickle.dump(OFedAvg_loss, f)"
   ]
  },
  {
   "cell_type": "code",
   "execution_count": null,
   "metadata": {},
   "outputs": [],
   "source": []
  }
 ],
 "metadata": {
  "kernelspec": {
   "display_name": "Python 3.8.9 64-bit",
   "language": "python",
   "name": "python3"
  },
  "language_info": {
   "codemirror_mode": {
    "name": "ipython",
    "version": 3
   },
   "file_extension": ".py",
   "mimetype": "text/x-python",
   "name": "python",
   "nbconvert_exporter": "python",
   "pygments_lexer": "ipython3",
   "version": "3.8.9"
  },
  "orig_nbformat": 4,
  "vscode": {
   "interpreter": {
    "hash": "31f2aee4e71d21fbe5cf8b01ff0e069b9275f58929596ceb00d14d90e3e16cd6"
   }
  }
 },
 "nbformat": 4,
 "nbformat_minor": 2
}
