{
 "cells": [
  {
   "attachments": {},
   "cell_type": "markdown",
   "metadata": {},
   "source": [
    "## Regret Analysis of OFL - \\<Performance Experiments\\>"
   ]
  },
  {
   "attachments": {},
   "cell_type": "markdown",
   "metadata": {},
   "source": [
    "### 1. Environment Setting"
   ]
  },
  {
   "cell_type": "code",
   "execution_count": 8,
   "metadata": {},
   "outputs": [
    {
     "ename": "ImportError",
     "evalue": "cannot import name 'opt_param' from 'RegretBound' (RegretBound.ipynb)",
     "output_type": "error",
     "traceback": [
      "\u001b[0;31m---------------------------------------------------------------------------\u001b[0m",
      "\u001b[0;31mImportError\u001b[0m                               Traceback (most recent call last)",
      "Cell \u001b[0;32mIn[8], line 6\u001b[0m\n\u001b[1;32m      3\u001b[0m \u001b[39mfrom\u001b[39;00m    \u001b[39mkeras\u001b[39;00m \u001b[39mimport\u001b[39;00m datasets\n\u001b[1;32m      4\u001b[0m \u001b[39mimport\u001b[39;00m  \u001b[39mimport_ipynb\u001b[39;00m\n\u001b[0;32m----> 6\u001b[0m \u001b[39mfrom\u001b[39;00m \u001b[39mRegretBound\u001b[39;00m \u001b[39mimport\u001b[39;00m opt_param\n\u001b[1;32m      7\u001b[0m \u001b[39mfrom\u001b[39;00m \u001b[39mdata\u001b[39;00m \u001b[39mimport\u001b[39;00m CIFAR_10_data, MNIST_data, Air_data, Room_data, Cond_data, Tom_data, Energy_data\n\u001b[1;32m      8\u001b[0m \u001b[39mfrom\u001b[39;00m \u001b[39mmodel\u001b[39;00m \u001b[39mimport\u001b[39;00m OFL_Model\n",
      "\u001b[0;31mImportError\u001b[0m: cannot import name 'opt_param' from 'RegretBound' (RegretBound.ipynb)"
     ]
    }
   ],
   "source": [
    "import  numpy as np\n",
    "# import  matplotlib.pyplot as plt\n",
    "from    keras import datasets\n",
    "import  import_ipynb\n",
    "\n",
    "from RegretBound import opt_param\n",
    "from data import CIFAR_10_data, MNIST_data, Air_data, Room_data, Cond_data, Tom_data, Energy_data\n",
    "from model import OFL_Model\n",
    "from utils import sigma_diff\n",
    "\n",
    "K = 1000        # Number of clients\n",
    "#D = 34826       # number of parameters (MNIST)\n",
    "D = 52874       # CIFAR-10\n",
    "# D = 4353        # (Air, Cond, Tom)\n",
    "#D = 4548         # (Room)\n",
    "P = 0.3        # Com. overhead reduction rate from FedOGD\n",
    "L = 8           # Local training time (Batch Size)\n",
    "\n",
    "s, _, b, p = opt_param(P, D, show_result=False)\n",
    "p2 = p * L\n",
    "print(s, b, p, p2)"
   ]
  },
  {
   "attachments": {},
   "cell_type": "markdown",
   "metadata": {},
   "source": [
    "### 2. Experiment Setting"
   ]
  },
  {
   "cell_type": "code",
   "execution_count": 20,
   "metadata": {},
   "outputs": [
    {
     "name": "stdout",
     "output_type": "stream",
     "text": [
      "Downloading data from https://www.cs.toronto.edu/~kriz/cifar-10-python.tar.gz\n",
      "170500096/170498071 [==============================] - 20s 0us/step\n",
      "170508288/170498071 [==============================] - 20s 0us/step\n"
     ]
    }
   ],
   "source": [
    "#Clf -> MNIST, Room Occupancy\n",
    "x_train, y_train, input_size = CIFAR_10_data() #MNIST_data() #Room_data()\n",
    "task = 'clf'\n",
    "\n",
    "#Reg -> Air, Conductivity\n",
    "# x_train, y_train, input_size = Air_data() #Cond_data()\n",
    "# task = 'reg'\n",
    "\n",
    "#TOM, Energy\n",
    "# x_train, y_train, input_size = Energy_data() #Tom_data()\n",
    "# task = 'reg'"
   ]
  },
  {
   "cell_type": "code",
   "execution_count": 21,
   "metadata": {},
   "outputs": [],
   "source": [
    "Model_list = []\n",
    "\n",
    "Model_list.append(OFL_Model('FedOGD', task, K, [False, 0, 0], 1, 1, input_size))\n",
    "Model_list.append(OFL_Model('OFedAvg', task, K, [False, 0, 0], P, 1, input_size))\n",
    "Model_list.append(OFL_Model('FedOMD', task, K, [False, 0, 0], 1, int(1/P), input_size))\n",
    "Model_list.append(OFL_Model('OFedIQ', task, K, [True, s, b], p, 1, input_size))\n",
    "#Model_list.append(OFL_Model('OFedIQ(L=8)', task, K, [True, s, b], p2, L, input_size))\n"
   ]
  },
  {
   "attachments": {},
   "cell_type": "markdown",
   "metadata": {},
   "source": [
    "### 3. Training"
   ]
  },
  {
   "cell_type": "code",
   "execution_count": 22,
   "metadata": {},
   "outputs": [
    {
     "name": "stdout",
     "output_type": "stream",
     "text": [
      "25 50\n"
     ]
    }
   ],
   "source": [
    "i_max = len(y_train) // K\n",
    "iter_max = 25\n",
    "print(iter_max, i_max)\n",
    "\n",
    "#iter = 15,60 / 80,4 / 40, 9"
   ]
  },
  {
   "cell_type": "code",
   "execution_count": 23,
   "metadata": {},
   "outputs": [
    {
     "name": "stdout",
     "output_type": "stream",
     "text": [
      "0,1,2,3,4,5,6,7,8,9,10,11,12,13,14,15,16,17,18,19,20,21,22,23,24,\n",
      "0,1,2,3,4,5,6,7,8,9,10,11,12,13,14,15,16,17,18,19,20,21,22,23,24,\n",
      "0,1,2,3,4,5,6,7,8,9,10,11,12,13,14,15,16,17,18,19,20,21,22,23,24,\n",
      "0,1,2,3,4,5,6,7,8,9,10,11,12,13,14,15,16,17,18,19,20,21,22,23,24,\n"
     ]
    }
   ],
   "source": [
    "for model in Model_list:\n",
    "    for iter in range(iter_max):\n",
    "        for i in range(i_max):\n",
    "            model.train(x_train[K*i : K*(i+1)], y_train[K*i : K*(i+1)], ((i_max * iter) + (i+1)) % model.L)\n",
    "        print(iter, end =',')\n",
    "    print()\n",
    "\n",
    "result_list = []\n",
    "for model in Model_list:\n",
    "    result_list.append(model.pull_result())"
   ]
  },
  {
   "attachments": {},
   "cell_type": "markdown",
   "metadata": {},
   "source": [
    "### 3. Save Result"
   ]
  },
  {
   "cell_type": "code",
   "execution_count": 25,
   "metadata": {},
   "outputs": [],
   "source": [
    "import pickle\n",
    "\n",
    "#Code: data / data_90\n",
    "code = input(\"Code: \")\n",
    "\n",
    "for i, model in enumerate(Model_list):\n",
    "    name = model.name\n",
    "    with open(f\"./result/{task}_{name}_{code}.pkl\",\"wb\") as f:\n",
    "        pickle.dump(result_list[i], f)"
   ]
  },
  {
   "attachments": {},
   "cell_type": "markdown",
   "metadata": {},
   "source": [
    "### 4. Plot Result"
   ]
  },
  {
   "cell_type": "code",
   "execution_count": 9,
   "metadata": {},
   "outputs": [
    {
     "data": {
      "image/png": "[encoded data removed]",
      "text/plain": [
       "<Figure size 640x480 with 1 Axes>"
      ]
     },
     "metadata": {},
     "output_type": "display_data"
    }
   ],
   "source": [
    "import pickle\n",
    "import matplotlib.pyplot  as plt\n",
    "\n",
    "task = 'clf'\n",
    "\n",
    "code = input('Code:')\n",
    "\n",
    "with open(f\"./result_L/{task}_FedOGD_{code}.pkl\", \"rb\") as f:\n",
    "    r1 = pickle.load(f)\n",
    "with open(f\"./result_L/{task}_OFedAvg_{code}.pkl\", \"rb\") as f:\n",
    "    r2 = pickle.load(f)\n",
    "with open(f\"./result_L/{task}_FedOMD_{code}.pkl\", \"rb\") as f:\n",
    "    r3 = pickle.load(f)\n",
    "with open(f\"./result_L/{task}_OFedIQ_{code}.pkl\", \"rb\") as f:\n",
    "    r4 = pickle.load(f)\n",
    "\n",
    "\n",
    "l1 = list(range(len(r1))) \n",
    "l2 = list(range(len(r2)))\n",
    "l3 = list(range(len(r3)))\n",
    "l4 = list(range(len(r4)))\n",
    "\n",
    "# Normal\n",
    "plt.plot(l1, r1, 'black', label=r'FedOGD')\n",
    "plt.plot(l4, r4, 'green', label=r'OFedIQ ($\\mathdefault{L=1,p=0.150,s=4,b=1764}$)')\n",
    "plt.plot(l2, r2, 'blue', label=r'OFedAvg ($\\mathdefault{p=0.02}$)')\n",
    "plt.plot(l3, r3, 'red', label=r'FedOMD ($\\mathdefault{L=50}$)')\n",
    "\n",
    "plt.rcParams[\"font.family\"] = \"Times New Roman\"\n",
    "\n",
    "plt.xlabel('time step (t)')\n",
    "\n",
    "if task == 'clf':\n",
    "    plt.ylabel('Accuracy (t)')\n",
    "elif task == 'reg':\n",
    "    plt.ylabel('MSE (t)')\n",
    "    #plt.yscale(\"log\")\n",
    "\n",
    "plt.ylim([-0.1, 0.6])\n",
    "plt.grid()\n",
    "plt.legend()\n",
    "\n",
    "plt.savefig(f'./Figures_L/{task}_{code}.png', dpi=200, facecolor=\"white\")\n",
    "plt.show()"
   ]
  },
  {
   "attachments": {},
   "cell_type": "markdown",
   "metadata": {},
   "source": [
    "### 4-2. Accuracy"
   ]
  },
  {
   "cell_type": "code",
   "execution_count": null,
   "metadata": {},
   "outputs": [],
   "source": [
    "import pickle \n",
    "\n",
    "task = 'clf'\n",
    "\n",
    "def print_acc(code):\n",
    "  with open(f\"./result/{task}_FedOGD_{code}.pkl\", \"rb\") as f:\n",
    "      r1 = pickle.load(f)\n",
    "  with open(f\"./result/{task}_OFedAvg_{code}.pkl\", \"rb\") as f:\n",
    "      r2 = pickle.load(f)\n",
    "  with open(f\"./result/{task}_FedOMD_{code}.pkl\", \"rb\") as f:\n",
    "      r3 = pickle.load(f)\n",
    "  with open(f\"./result/{task}_OFedIQ_{code}.pkl\", \"rb\") as f:\n",
    "      r4 = pickle.load(f)\n",
    "\n",
    "  print('[', code, '] : ', r1[-1], r2[-1], r3[-1], r4[-1])\n",
    "\n",
    "code_list = ['MNIST']\n",
    "for code in code_list:\n",
    "    print_acc(code)"
   ]
  },
  {
   "attachments": {},
   "cell_type": "markdown",
   "metadata": {},
   "source": [
    "### 5. $\\sigma_{\\rm diff}$"
   ]
  },
  {
   "cell_type": "code",
   "execution_count": 16,
   "metadata": {},
   "outputs": [
    {
     "name": "stdout",
     "output_type": "stream",
     "text": [
      "12.626342124166777\n"
     ]
    }
   ],
   "source": [
    "x_train, y_train = MNIST_data()\n",
    "sigma = sigma_diff(Model_list[0], x_train, y_train, 60)\n",
    "print(sigma)"
   ]
  },
  {
   "attachments": {},
   "cell_type": "markdown",
   "metadata": {},
   "source": [
    "FedOGD w/ iid data: 7.069452932191554\n",
    "\n",
    "FedOGD w/ non-iid data: 12.626342124166777"
   ]
  },
  {
   "attachments": {},
   "cell_type": "markdown",
   "metadata": {},
   "source": []
  }
 ],
 "metadata": {
  "kernelspec": {
   "display_name": "Python 3.8.9 64-bit",
   "language": "python",
   "name": "python3"
  },
  "language_info": {
   "codemirror_mode": {
    "name": "ipython",
    "version": 3
   },
   "file_extension": ".py",
   "mimetype": "text/x-python",
   "name": "python",
   "nbconvert_exporter": "python",
   "pygments_lexer": "ipython3",
   "version": "3.8.13"
  },
  "orig_nbformat": 4,
  "vscode": {
   "interpreter": {
    "hash": "31f2aee4e71d21fbe5cf8b01ff0e069b9275f58929596ceb00d14d90e3e16cd6"
   }
  }
 },
 "nbformat": 4,
 "nbformat_minor": 2
}
