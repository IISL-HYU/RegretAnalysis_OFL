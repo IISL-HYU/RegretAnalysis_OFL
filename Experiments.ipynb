{
 "cells": [
  {
   "cell_type": "markdown",
   "metadata": {},
   "source": [
    "## Regret Analysis of OFL - \\<Performance Experiments\\>"
   ]
  },
  {
   "cell_type": "markdown",
   "metadata": {},
   "source": [
    "### 1. Environment Setting"
   ]
  },
  {
   "cell_type": "code",
   "execution_count": 3,
   "metadata": {},
   "outputs": [],
   "source": [
    "import  torch\n",
    "import  numpy as np\n",
    "import  matplotlib.pyplot as plt\n",
    "from    keras import datasets\n",
    "import  import_ipynb\n",
    "\n",
    "from RegretBound import opt_param\n",
    "from data import pull_data\n",
    "from model import FL_Model\n",
    "\n",
    "K = 1000        # Number of clients\n",
    "D = 34826       # number of parameters\n",
    "P = 0.01        # Com. overhead reduction rate from FedOGD\n",
    "L = 1           # Local training time (Batch Size)\n",
    "\n",
    "s, _, b, p = opt_param(P, D, show_result=False)\n",
    "\n",
    "FedOGD_loss = []\n",
    "OFedAvg_loss = []\n",
    "OFedAQ_loss = []\n",
    "\n",
    "FedOGD_acc = []\n",
    "OFedAvg_acc = []\n",
    "OFedAQ_acc = []"
   ]
  },
  {
   "cell_type": "markdown",
   "metadata": {},
   "source": [
    "### 2. Experiment Setting"
   ]
  },
  {
   "cell_type": "code",
   "execution_count": 4,
   "metadata": {},
   "outputs": [
    {
     "name": "stderr",
     "output_type": "stream",
     "text": [
      "2022-10-07 17:14:43.557923: I tensorflow/core/platform/cpu_feature_guard.cc:151] This TensorFlow binary is optimized with oneAPI Deep Neural Network Library (oneDNN) to use the following CPU instructions in performance-critical operations:  AVX2 FMA\n",
      "To enable them in other operations, rebuild TensorFlow with the appropriate compiler flags.\n"
     ]
    }
   ],
   "source": [
    "### Running Time (~2min, iMac 27(2019)) ###\n",
    "\n",
    "#MNIST\n",
    "x_train, y_train, _, _= pull_data()\n",
    "\n",
    "FedOGD = FL_Model(K, False, 1, L)\n",
    "OFedAvg = FL_Model(K, False, P, L)\n",
    "#Synthetic data"
   ]
  },
  {
   "cell_type": "markdown",
   "metadata": {},
   "source": [
    "### 3. Training"
   ]
  },
  {
   "cell_type": "markdown",
   "metadata": {},
   "source": [
    "#### 3-1. Classification\n",
    "\n"
   ]
  },
  {
   "cell_type": "code",
   "execution_count": 6,
   "metadata": {},
   "outputs": [
    {
     "name": "stdout",
     "output_type": "stream",
     "text": [
      "iter0\n",
      "iter0\n",
      "iter0\n",
      "iter0\n",
      "iter0\n",
      "iter0\n",
      "iter0\n",
      "iter0\n",
      "iter0\n",
      "iter0\n",
      "iter0\n",
      "iter0\n",
      "iter0\n",
      "iter0\n",
      "iter0\n",
      "iter0\n",
      "iter0\n",
      "iter0\n",
      "iter0\n",
      "iter0\n",
      "iter0\n",
      "iter0\n",
      "iter0\n",
      "iter0\n",
      "iter0\n",
      "iter0\n",
      "iter0\n",
      "iter0\n",
      "iter0\n",
      "iter0\n",
      "iter0\n",
      "iter0\n",
      "iter0\n",
      "iter0\n",
      "iter0\n",
      "iter0\n",
      "iter0\n",
      "iter0\n",
      "iter0\n",
      "iter0\n",
      "iter0\n",
      "iter0\n",
      "iter0\n",
      "iter0\n",
      "iter0\n",
      "iter0\n",
      "iter0\n",
      "iter0\n",
      "iter0\n",
      "iter0\n",
      "iter0\n",
      "iter0\n",
      "iter0\n",
      "iter0\n",
      "iter0\n",
      "iter0\n",
      "iter0\n",
      "iter0\n",
      "iter0\n",
      "iter0\n",
      "iter0\n"
     ]
    }
   ],
   "source": [
    "#OFedAvg iter 30 -> 3hr\n",
    "\n",
    "for iter in range(10):\n",
    "    for i in range(60):\n",
    "        loss, acc = FedOGD.train(x_train[K*L*i : K*L*(i+1)], y_train[K*L*i : K*L*(i+1)])\n",
    "        FedOGD_loss.append(loss)\n",
    "        if len(FedOGD_acc) :\n",
    "            FedOGD_acc.append(FedOGD_acc[len(FedOGD_acc) - 1] + acc)\n",
    "        else:\n",
    "            FedOGD_acc.append(acc)\n",
    "    print(iter, end =',')\n",
    "\n",
    "    \n",
    "for iter in range(10):\n",
    "    for i in range(60):\n",
    "        loss, acc = OFedAvg.train(x_train[K*L*i : K*L*(i+1)], y_train[K*L*i : K*L*(i+1)])\n",
    "        OFedAvg_loss.append(loss)\n",
    "        if len(OFedAvg_acc) :\n",
    "            OFedAvg_acc.append(OFedAvg_acc[len(OFedAvg_acc) - 1] + acc)\n",
    "        else:\n",
    "            OFedAvg_acc.append(acc)\n",
    "    print(iter, end =',')\n",
    "        \n",
    "for i in range(len(FedOGD_acc)):\n",
    "    FedOGD_acc[i] /= K * (i + 1)\n",
    "    OFedAvg_acc[i] /= K * (i + 1)\n",
    "        "
   ]
  },
  {
   "cell_type": "code",
   "execution_count": null,
   "metadata": {},
   "outputs": [],
   "source": [
    "# Save Result"
   ]
  },
  {
   "cell_type": "markdown",
   "metadata": {},
   "source": [
    "### 4. Plot Result"
   ]
  },
  {
   "cell_type": "code",
   "execution_count": 7,
   "metadata": {},
   "outputs": [
    {
     "data": {
      "text/plain": [
       "[<matplotlib.lines.Line2D at 0x186ef9a60>]"
      ]
     },
     "execution_count": 7,
     "metadata": {},
     "output_type": "execute_result"
    },
    {
     "data": {
      "image/png": "[encoded data removed]",
      "text/plain": [
       "<Figure size 432x288 with 1 Axes>"
      ]
     },
     "metadata": {
      "needs_background": "light"
     },
     "output_type": "display_data"
    }
   ],
   "source": [
    "l1 = list(range(len(FedOGD_loss)))\n",
    "\n",
    "\n",
    "plt.plot(l1, FedOGD_loss, 'black', label=r'OFedAvg ($\\mathdefault{p=0.1}$)')\n"
   ]
  },
  {
   "cell_type": "code",
   "execution_count": 8,
   "metadata": {},
   "outputs": [
    {
     "data": {
      "text/plain": [
       "[<matplotlib.lines.Line2D at 0x1875703d0>]"
      ]
     },
     "execution_count": 8,
     "metadata": {},
     "output_type": "execute_result"
    },
    {
     "data": {
      "image/png": "[encoded data removed]",
      "text/plain": [
       "<Figure size 432x288 with 1 Axes>"
      ]
     },
     "metadata": {
      "needs_background": "light"
     },
     "output_type": "display_data"
    }
   ],
   "source": [
    "a1 = list(range(len(FedOGD_acc)))\n",
    "a2 = list(range(len(OFedAvg_acc)))\n",
    "plt.plot(a1, FedOGD_acc, 'black', label=r'OFedAvg ($\\mathdefault{p=0.1}$)')\n",
    "plt.plot(a2, OFedAvg_acc, 'red', label=r'OFedAvg ($\\mathdefault{p=0.1}$)')"
   ]
  },
  {
   "cell_type": "code",
   "execution_count": 8,
   "metadata": {},
   "outputs": [],
   "source": [
    "import pickle\n",
    "\n",
    "with open(f\"./FedOGD_acc.pkl\",\"wb\") as f:\n",
    "    pickle.dump(FedOGD_acc, f)\n",
    "\n",
    "with open(f\"./FedOGD_loss.pkl\",\"wb\") as f:\n",
    "    pickle.dump(FedOGD_loss, f)"
   ]
  },
  {
   "cell_type": "code",
   "execution_count": 7,
   "metadata": {},
   "outputs": [
    {
     "data": {
      "text/plain": [
       "[0.105,\n",
       " 0.169,\n",
       " 0.415,\n",
       " 0.535,\n",
       " 0.565,\n",
       " 0.596,\n",
       " 0.649,\n",
       " 0.712,\n",
       " 0.691,\n",
       " 0.785,\n",
       " 0.839,\n",
       " 0.809,\n",
       " 0.814,\n",
       " 0.821,\n",
       " 0.787,\n",
       " 0.845,\n",
       " 0.883,\n",
       " 0.885,\n",
       " 0.923,\n",
       " 0.897,\n",
       " 0.899,\n",
       " 0.942,\n",
       " 0.919,\n",
       " 0.921,\n",
       " 0.9,\n",
       " 0.925,\n",
       " 0.925,\n",
       " 0.915,\n",
       " 0.943,\n",
       " 0.926,\n",
       " 0.938,\n",
       " 0.92,\n",
       " 0.934,\n",
       " 0.944,\n",
       " 0.942,\n",
       " 0.943,\n",
       " 0.96,\n",
       " 0.935,\n",
       " 0.955,\n",
       " 0.944,\n",
       " 0.961,\n",
       " 0.944,\n",
       " 0.941,\n",
       " 0.942,\n",
       " 0.955,\n",
       " 0.943,\n",
       " 0.945,\n",
       " 0.946,\n",
       " 0.959,\n",
       " 0.943,\n",
       " 0.955,\n",
       " 0.968,\n",
       " 0.954,\n",
       " 0.969,\n",
       " 0.962,\n",
       " 0.974,\n",
       " 0.967,\n",
       " 0.966,\n",
       " 0.984,\n",
       " 0.974]"
      ]
     },
     "execution_count": 7,
     "metadata": {},
     "output_type": "execute_result"
    }
   ],
   "source": [
    "FedOGD_acc"
   ]
  },
  {
   "cell_type": "code",
   "execution_count": 8,
   "metadata": {},
   "outputs": [
    {
     "name": "stdout",
     "output_type": "stream",
     "text": [
      "100/100 [==============================] - 0s 698us/step - loss: 0.1084 - sparse_categorical_accuracy: 0.0000e+00\n"
     ]
    },
    {
     "data": {
      "text/plain": [
       "[0.10835853219032288, 0.0]"
      ]
     },
     "execution_count": 8,
     "metadata": {},
     "output_type": "execute_result"
    }
   ],
   "source": [
    "# evaluate\n",
    "\n",
    "FedOGD[K].evaluate(x_train[0:100], y_train[0:100], batch_size = 1)\n"
   ]
  },
  {
   "cell_type": "code",
   "execution_count": null,
   "metadata": {},
   "outputs": [],
   "source": []
  }
 ],
 "metadata": {
  "kernelspec": {
   "display_name": "Python 3.8.9 64-bit",
   "language": "python",
   "name": "python3"
  },
  "language_info": {
   "codemirror_mode": {
    "name": "ipython",
    "version": 3
   },
   "file_extension": ".py",
   "mimetype": "text/x-python",
   "name": "python",
   "nbconvert_exporter": "python",
   "pygments_lexer": "ipython3",
   "version": "3.8.9"
  },
  "orig_nbformat": 4,
  "vscode": {
   "interpreter": {
    "hash": "31f2aee4e71d21fbe5cf8b01ff0e069b9275f58929596ceb00d14d90e3e16cd6"
   }
  }
 },
 "nbformat": 4,
 "nbformat_minor": 2
}
