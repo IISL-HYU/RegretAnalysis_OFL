{
 "cells": [
  {
   "cell_type": "markdown",
   "metadata": {},
   "source": [
    "## Regret Analysis of OFL - Optimal Parameter & Regret Bound"
   ]
  },
  {
   "cell_type": "markdown",
   "metadata": {},
   "source": [
    "### 0. Regret Bound & Communication Overhead\n",
    "\n",
    "#### 0-1. Regret Bound ($\\sqrt{\\alpha T G^2K^2\\|w_{\\star}\\|^2}$)\n",
    "- FedOGD : $\\alpha=2$\n",
    "- OFedAvg : $\\alpha=2/p$\n",
    "- OFedAQ : $\\alpha=2\\left(1+\\sqrt{D/s^2b}(p+1/K)\\right)/p$\n",
    "- OFedPAQ : $\\alpha=2L\\left(1+\\sqrt{D/s^2b}(p+1/K)\\right)/p$\n",
    "\n",
    "#### 0-2. Communication Overhead (per time)\n",
    "- FedOGD : $32KD$\n",
    "- OFedAvg : $32pKD$\n",
    "- OFedAQ : $pK(32b+D(1+\\log{(s+1)}))$\n",
    "- OFedPAQ : $pK(32b+D(1+\\log{(s+1)}))/L$\n"
   ]
  },
  {
   "cell_type": "markdown",
   "metadata": {},
   "source": [
    "---"
   ]
  },
  {
   "cell_type": "markdown",
   "metadata": {},
   "source": [
    "### 1. Environment Setting"
   ]
  },
  {
   "cell_type": "code",
   "execution_count": 1,
   "metadata": {},
   "outputs": [],
   "source": [
    "import numpy as np\n",
    "import matplotlib.pyplot as plt\n",
    "\n",
    "K = 1000     # number of clients\n",
    "D = 34826    # length of parameter vector"
   ]
  },
  {
   "cell_type": "markdown",
   "metadata": {},
   "source": [
    "### 2. Find optimal parameter\n",
    "\n",
    "\n",
    "$$\\min_{s} \\frac{\\log(s+1)}{16 p_1} + \\frac{4}{p_1}\\times\\left(\\frac{p_1}{s}\\right)^{2/3}.$$"
   ]
  },
  {
   "cell_type": "code",
   "execution_count": 2,
   "metadata": {},
   "outputs": [],
   "source": [
    "def opt_param(p1, D, show_result):\n",
    "    \n",
    "    min_index = 1\n",
    "    min_bound = -1\n",
    "    bound_list = []\n",
    "\n",
    "    for s in range(1, 100):\n",
    "        bound = np.log2(s + 1)/(16*p1) + 4/p1 * np.power(p1/s, 2/3)\n",
    "        bound_list.append(bound)\n",
    "        alpha = np.power(p1/s, 2/3)\n",
    "        p2 = 32 * p1/(32 * alpha + 1 + np.log2(s + 1))\n",
    "        if (min_bound < 0 or min_bound > bound) and p2 < 1:\n",
    "            min_bound = bound\n",
    "            min_index = s\n",
    "            min_alpha = alpha\n",
    "            min_p2 = p2\n",
    "\n",
    "    if show_result:\n",
    "        print(\"OFedAQ optimal parameter same communication overhead with OFedAvg (p = %.3f)\" %(p1))\n",
    "        print(\"s =\", min_index, \", alpha =\", min_alpha)\n",
    "        print(\"b =\", int(min_alpha * D), \", p2 =\", min_p2)\n",
    "\n",
    "        plt.plot(bound_list)\n",
    "        plt.show()\n",
    "    \n",
    "    return min_index, min_alpha, int(min_alpha * D), min_p2"
   ]
  },
  {
   "cell_type": "code",
   "execution_count": 6,
   "metadata": {},
   "outputs": [
    {
     "name": "stdout",
     "output_type": "stream",
     "text": [
      "OFedAQ optimal parameter same communication overhead with OFedAvg (p = 0.010)\n",
      "s = 3 , alpha = 0.022314431669405655\n",
      "b = 777 , p2 = 0.08615903990710687\n"
     ]
    },
    {
     "data": {
      "image/png": "[encoded data removed]",
      "text/plain": [
       "<Figure size 432x288 with 1 Axes>"
      ]
     },
     "metadata": {
      "needs_background": "light"
     },
     "output_type": "display_data"
    },
    {
     "data": {
      "text/plain": [
       "(3, 0.022314431669405655, 777, 0.08615903990710687)"
      ]
     },
     "execution_count": 6,
     "metadata": {},
     "output_type": "execute_result"
    }
   ],
   "source": [
    "opt_param(0.01, D, True)"
   ]
  },
  {
   "cell_type": "code",
   "execution_count": 11,
   "metadata": {},
   "outputs": [
    {
     "name": "stdout",
     "output_type": "stream",
     "text": [
      "optimal parameter\n",
      "s = 34 , alpha = 0.03258622503973215\n",
      "b = 1134 , p2 = 0.8923539216967419\n"
     ]
    },
    {
     "data": {
      "image/png": "[encoded data removed]",
      "text/plain": [
       "<Figure size 432x288 with 1 Axes>"
      ]
     },
     "metadata": {
      "needs_background": "light"
     },
     "output_type": "display_data"
    },
    {
     "data": {
      "text/plain": [
       "(34, 0.03258622503973215, 1134, 0.8923539216967419)"
      ]
     },
     "execution_count": 11,
     "metadata": {},
     "output_type": "execute_result"
    }
   ],
   "source": [
    "opt_param(0.2, True)"
   ]
  },
  {
   "cell_type": "markdown",
   "metadata": {},
   "source": [
    "### 4. Regret bound comparison: OFedAQ, OFedAvg"
   ]
  },
  {
   "cell_type": "code",
   "execution_count": 18,
   "metadata": {},
   "outputs": [],
   "source": [
    "def bound_comp():\n",
    "    \n",
    "    index_list = np.array(range(10, 200)) / 1000\n",
    "    bound_AQ_list = []\n",
    "    bound_Avg_list = []\n",
    "    \n",
    "    for p in range(10, 200):\n",
    "        p1 = p / 1000\n",
    "        s, alpha, b, p2 = opt_param(p1, D, False)\n",
    "        bound_Avg_list.append(2/p1)\n",
    "        \n",
    "        bound_AQ = 2 * (1 + 1/(s * np.sqrt(alpha)) * (p2 + 1/K)) / p2\n",
    "        bound_AQ_list.append(bound_AQ)\n",
    "    \n",
    "    plt.plot(index_list, bound_Avg_list, 'black', label='OFedAvg')\n",
    "    plt.plot(index_list, bound_AQ_list, 'red', label='OFedAQ w/ optimal param')\n",
    "    \n",
    "    plt.xlabel('Reduction rate (p1 = 0.010 ~ 0.200)')\n",
    "    plt.ylabel('Regret Bound')\n",
    "    \n",
    "    plt.rcParams[\"font.family\"] = \"Times New Roman\"\n",
    "    plt.grid()\n",
    "    plt.legend()\n",
    "    plt.show()"
   ]
  },
  {
   "cell_type": "code",
   "execution_count": 19,
   "metadata": {
    "scrolled": false
   },
   "outputs": [
    {
     "data": {
      "image/png": "[encoded data removed]",
      "text/plain": [
       "<Figure size 432x288 with 1 Axes>"
      ]
     },
     "metadata": {
      "needs_background": "light"
     },
     "output_type": "display_data"
    }
   ],
   "source": [
    "bound_comp()"
   ]
  },
  {
   "cell_type": "code",
   "execution_count": null,
   "metadata": {},
   "outputs": [],
   "source": []
  }
 ],
 "metadata": {
  "kernelspec": {
   "display_name": "Python 3.8.9 64-bit",
   "language": "python",
   "name": "python3"
  },
  "language_info": {
   "codemirror_mode": {
    "name": "ipython",
    "version": 3
   },
   "file_extension": ".py",
   "mimetype": "text/x-python",
   "name": "python",
   "nbconvert_exporter": "python",
   "pygments_lexer": "ipython3",
   "version": "3.8.9"
  },
  "vscode": {
   "interpreter": {
    "hash": "31f2aee4e71d21fbe5cf8b01ff0e069b9275f58929596ceb00d14d90e3e16cd6"
   }
  }
 },
 "nbformat": 4,
 "nbformat_minor": 2
}
