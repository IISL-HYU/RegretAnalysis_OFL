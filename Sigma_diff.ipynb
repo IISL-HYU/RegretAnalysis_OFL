{
 "cells": [
  {
   "cell_type": "code",
   "execution_count": 2,
   "metadata": {},
   "outputs": [
    {
     "name": "stdout",
     "output_type": "stream",
     "text": [
      "1 34826 0.9411764705882353 9.411764705882353\n"
     ]
    }
   ],
   "source": [
    "import  torch\n",
    "import  numpy as np\n",
    "import  matplotlib.pyplot as plt\n",
    "from    keras import datasets\n",
    "import  import_ipynb\n",
    "\n",
    "from RegretBound import opt_param\n",
    "from data import MNIST_data\n",
    "from model import OFL_Model\n",
    "from utils import sigma_diff\n",
    "\n",
    "K = 100         # Number of clients\n",
    "D = 34826       # number of parameters (MNIST)\n",
    "P = 1           # Com. overhead reduction rate from FedOGD\n",
    "L = 10          # Local training time (Batch Size)\n",
    "\n",
    "s, _, b, p = opt_param(P, D, show_result=False)\n",
    "p2 = p * L\n",
    "print(s, b, p, p2)"
   ]
  },
  {
   "cell_type": "code",
   "execution_count": 3,
   "metadata": {},
   "outputs": [
    {
     "name": "stderr",
     "output_type": "stream",
     "text": [
      "2022-12-29 16:27:53.015692: I tensorflow/core/platform/cpu_feature_guard.cc:151] This TensorFlow binary is optimized with oneAPI Deep Neural Network Library (oneDNN) to use the following CPU instructions in performance-critical operations:  AVX2 FMA\n",
      "To enable them in other operations, rebuild TensorFlow with the appropriate compiler flags.\n"
     ]
    }
   ],
   "source": [
    "x_train, y_train, input_size = MNIST_data(iid=True, shuffle=False)\n",
    "x_train2, y_train2, input_size = MNIST_data(iid=False, shuffle=False)\n",
    "task = 'clf'\n",
    "\n",
    "Model_list = []\n",
    "\n",
    "Model_list.append(OFL_Model('FedOGD_sigma_iid', task, K, [False, 0, 0], 1, L, input_size))\n",
    "Model_list.append(OFL_Model('FedOGD_sigma_niid', task, K, [False, 0, 0], 1, L, input_size))\n",
    "# Model_list.append(OFL_Model('OFedAvg', task, K, [False, 0, 0], P, 1, input_size))\n",
    "# Model_list.append(OFL_Model('FedOMD', task, K, [False, 0, 0], 1, 10, input_size))\n",
    "# Model_list.append(OFL_Model('OFedIQ', task, K, [True, s, b], p, 1, input_size))"
   ]
  },
  {
   "cell_type": "code",
   "execution_count": 4,
   "metadata": {},
   "outputs": [
    {
     "name": "stdout",
     "output_type": "stream",
     "text": [
      "2 375\n"
     ]
    }
   ],
   "source": [
    "i_max = 375\n",
    "iter_max = 2\n",
    "print(iter_max, i_max)\n",
    "\n",
    "model = Model_list[0]\n",
    "for iter in range(iter_max):\n",
    "    for i in range(i_max):\n",
    "        model.train(x_train[K*i : K*(i+1)], y_train[K*i : K*(i+1)], ((i_max * iter) + (i+1)) % model.L)\n",
    "    print(iter, end =',')\n",
    "\n",
    "model = Model_list[1]\n",
    "for iter in range(iter_max):\n",
    "    for i in range(i_max):\n",
    "        model.train(x_train2[K*i : K*(i+1)], y_train2[K*i : K*(i+1)], ((i_max * iter) + (i+1)) % model.L)\n",
    "    print(iter, end =',')\n",
    "\n",
    "result_list = []\n",
    "for model in Model_list:\n",
    "    result_list.append(model.pull_result())"
   ]
  },
  {
   "cell_type": "code",
   "execution_count": null,
   "metadata": {},
   "outputs": [],
   "source": [
    "import pickle\n",
    "\n",
    "code = input(\"Code: \")\n",
    "\n",
    "for i, model in enumerate(Model_list):\n",
    "    name = model.name\n",
    "    with open(f\"./result/{task}_{name}_{code}.pkl\",\"wb\") as f:\n",
    "        pickle.dump(result_list[i], f)"
   ]
  },
  {
   "cell_type": "code",
   "execution_count": null,
   "metadata": {},
   "outputs": [],
   "source": [
    "import pickle \n",
    "\n",
    "with open(f\"./result/clf_FedOGD_sigma_iid.pkl\", \"rb\") as f:\n",
    "    r1 = pickle.load(f)\n",
    "with open(f\"./result/clf_FedOGD_sigma_niid.pkl\", \"rb\") as f:\n",
    "    r2 = pickle.load(f)\n",
    "\n",
    "print(r1[250], r1[500])\n",
    "print(r2[250], r2[500])"
   ]
  }
 ],
 "metadata": {
  "kernelspec": {
   "display_name": "Python 3",
   "language": "python",
   "name": "python3"
  },
  "language_info": {
   "codemirror_mode": {
    "name": "ipython",
    "version": 3
   },
   "file_extension": ".py",
   "mimetype": "text/x-python",
   "name": "python",
   "nbconvert_exporter": "python",
   "pygments_lexer": "ipython3",
   "version": "3.8.9"
  },
  "orig_nbformat": 4,
  "vscode": {
   "interpreter": {
    "hash": "31f2aee4e71d21fbe5cf8b01ff0e069b9275f58929596ceb00d14d90e3e16cd6"
   }
  }
 },
 "nbformat": 4,
 "nbformat_minor": 2
}
