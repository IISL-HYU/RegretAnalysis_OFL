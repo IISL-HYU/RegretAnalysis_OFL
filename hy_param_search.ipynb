{
 "cells": [
  {
   "cell_type": "markdown",
   "metadata": {},
   "source": [
    "# Hyperparameter Search"
   ]
  },
  {
   "cell_type": "markdown",
   "metadata": {},
   "source": [
    "### 0. Regret Bound & Communication Overhead\n",
    "\n",
    "#### 0-1. Regret Bound ($\\sqrt{\\alpha T G^2K^2\\|w_{\\star}\\|^2}$)\n",
    "- FedOGD : $\\alpha=2$\n",
    "- OFedAvg : $\\alpha=2/p$\n",
    "- OFedAQ : $\\alpha=2\\left(1+\\sqrt{D/s^2b}(p+1/K)\\right)/p$\n",
    "- OFedPAQ : $\\alpha=2L\\left(1+\\sqrt{D/s^2b}(p+1/K)\\right)/p$\n",
    "\n",
    "#### 0-2. Communication Overhead (per time)\n",
    "- FedOGD : $32KD$\n",
    "- OFedAvg : $32pKD$\n",
    "- OFedAQ : $pK(32b+D(1+\\log{(s+1)}))$\n",
    "- OFedPAQ : $pK(32b+D(1+\\log{(s+1)}))/L$\n"
   ]
  },
  {
   "cell_type": "markdown",
   "metadata": {},
   "source": [
    "---"
   ]
  },
  {
   "cell_type": "markdown",
   "metadata": {},
   "source": [
    "### 1. \n",
    "$g(s) = $\n",
    "#### hyperparameter setting\n",
    "\n",
    "b = 1\n",
    "$$c = \\sqrt{a^2 + b^2}$$"
   ]
  },
  {
   "cell_type": "markdown",
   "metadata": {},
   "source": []
  },
  {
   "cell_type": "markdown",
   "metadata": {},
   "source": []
  }
 ],
 "metadata": {
  "language_info": {
   "name": "python"
  },
  "orig_nbformat": 4
 },
 "nbformat": 4,
 "nbformat_minor": 2
}
