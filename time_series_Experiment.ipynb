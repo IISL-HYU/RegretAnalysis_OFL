{
 "cells": [
  {
   "cell_type": "markdown",
   "metadata": {},
   "source": [
    "## Regret Analysis of OFL - \\<Performance Experiments\\>"
   ]
  },
  {
   "cell_type": "markdown",
   "metadata": {},
   "source": [
    "### 1. Environment Setting"
   ]
  },
  {
   "cell_type": "code",
   "execution_count": 1,
   "metadata": {},
   "outputs": [
    {
     "name": "stdout",
     "output_type": "stream",
     "text": [
      "Model: \"sequential\"\n",
      "_________________________________________________________________\n",
      "Layer (type)                 Output Shape              Param #   \n",
      "=================================================================\n",
      "dense (Dense)                (None, 1, 16)             144       \n",
      "_________________________________________________________________\n",
      "dense_1 (Dense)              (None, 1, 16)             272       \n",
      "_________________________________________________________________\n",
      "dense_2 (Dense)              (None, 1, 1)              17        \n",
      "=================================================================\n",
      "Total params: 433\n",
      "Trainable params: 433\n",
      "Non-trainable params: 0\n",
      "_________________________________________________________________\n"
     ]
    },
    {
     "name": "stderr",
     "output_type": "stream",
     "text": [
      "2023-04-29 18:41:14.953721: I tensorflow/core/platform/cpu_feature_guard.cc:142] This TensorFlow binary is optimized with oneAPI Deep Neural Network Library (oneDNN) to use the following CPU instructions in performance-critical operations:  AVX2 FMA\n",
      "To enable them in other operations, rebuild TensorFlow with the appropriate compiler flags.\n"
     ]
    }
   ],
   "source": [
    "import tensorflow as tf\n",
    "import keras\n",
    "from keras import layers\n",
    "\n",
    "model = tf.keras.Sequential([\n",
    "            tf.keras.Input(shape=(1, 8)),\n",
    "            layers.Dense(16, activation='relu'),\n",
    "            layers.Dense(16, activation='relu'),\n",
    "            layers.Dense(1)\n",
    "        ])\n",
    "\n",
    "model.summary()"
   ]
  },
  {
   "cell_type": "code",
   "execution_count": 2,
   "metadata": {},
   "outputs": [
    {
     "name": "stdout",
     "output_type": "stream",
     "text": [
      "3 9 0.08615903990710687 0.08615903990710687\n"
     ]
    }
   ],
   "source": [
    "import  torch\n",
    "import  numpy as np\n",
    "import  matplotlib.pyplot as plt\n",
    "from    keras import datasets\n",
    "import  import_ipynb\n",
    "\n",
    "from RegretBound import opt_param\n",
    "from data import  NN5_data\n",
    "from model import OFL_Model\n",
    "from utils import sigma_diff\n",
    "\n",
    "K = 111\n",
    "D = 433\n",
    "P = 0.01        # Com. overhead reduction rate from FedOGD\n",
    "L = 1           # Local training time (Batch Size)\n",
    "\n",
    "s, _, b, p = opt_param(P, D, show_result=False)\n",
    "p2 = p * L\n",
    "print(s, b, p, p2)"
   ]
  },
  {
   "cell_type": "markdown",
   "metadata": {},
   "source": [
    "### 2. Experiment Setting"
   ]
  },
  {
   "cell_type": "code",
   "execution_count": 3,
   "metadata": {},
   "outputs": [],
   "source": [
    "#NN5\n",
    "train, test = NN5_data()\n",
    "task = 'time'\n",
    "window = 8\n",
    "train = np.nan_to_num(train)\n",
    "test = np.nan_to_num(test)"
   ]
  },
  {
   "cell_type": "code",
   "execution_count": 4,
   "metadata": {},
   "outputs": [
    {
     "name": "stderr",
     "output_type": "stream",
     "text": [
      "2023-05-01 23:22:21.826201: I tensorflow/core/platform/cpu_feature_guard.cc:142] This TensorFlow binary is optimized with oneAPI Deep Neural Network Library (oneDNN) to use the following CPU instructions in performance-critical operations:  AVX2 FMA\n",
      "To enable them in other operations, rebuild TensorFlow with the appropriate compiler flags.\n"
     ]
    }
   ],
   "source": [
    "Model_list = []\n",
    "\n",
    "Model_list.append(OFL_Model('FedOGD', task, K, [False, 0, 0], 1, 1, window))\n",
    "Model_list.append(OFL_Model('OFedAvg', task, K, [False, 0, 0], P, 1, window))\n",
    "#Model_list.append(OFL_Model('FedOMD', task, K, [False, 0, 0], 1, int(1/P), window))\n",
    "Model_list.append(OFL_Model('OFedIQ', task, K, [True, s, b], p, 1, window))\n",
    "#Model_list.append(OFL_Model('OFedIQ(L=8)', task, K, [True, s, b], p2, L, input_size))\n"
   ]
  },
  {
   "cell_type": "markdown",
   "metadata": {},
   "source": [
    "### 3. Training"
   ]
  },
  {
   "cell_type": "code",
   "execution_count": 5,
   "metadata": {},
   "outputs": [
    {
     "name": "stdout",
     "output_type": "stream",
     "text": [
      "1 120\n"
     ]
    }
   ],
   "source": [
    "i_max = 120 #len(train[0]) - window - 1\n",
    "iter_max = 1\n",
    "print(iter_max, i_max)"
   ]
  },
  {
   "cell_type": "code",
   "execution_count": 6,
   "metadata": {},
   "outputs": [
    {
     "name": "stdout",
     "output_type": "stream",
     "text": [
      "0,\n",
      "0,\n",
      "0,\n"
     ]
    }
   ],
   "source": [
    "for model in Model_list:\n",
    "    for iter in range(iter_max):\n",
    "        for i in range(i_max):\n",
    "            model.train(train[:,i:i+window], train[:,i+window], ((i_max * iter) + (i+1)) % model.L)\n",
    "        print(iter, end =',')\n",
    "    print()\n",
    "\n",
    "result_list = []\n",
    "for model in Model_list:\n",
    "    result_list.append(model.pull_result())"
   ]
  },
  {
   "cell_type": "markdown",
   "metadata": {},
   "source": [
    "### 3. Save Result"
   ]
  },
  {
   "cell_type": "code",
   "execution_count": 7,
   "metadata": {},
   "outputs": [],
   "source": [
    "import pickle\n",
    "\n",
    "#Code: data / data_90\n",
    "code = input(\"Code: \")\n",
    "\n",
    "for i, model in enumerate(Model_list):\n",
    "    name = model.name\n",
    "    with open(f\"./result/{task}_{name}_{code}.pkl\",\"wb\") as f:\n",
    "        pickle.dump(result_list[i], f)"
   ]
  },
  {
   "cell_type": "code",
   "execution_count": 8,
   "metadata": {},
   "outputs": [
    {
     "data": {
      "text/plain": [
       "3"
      ]
     },
     "execution_count": 8,
     "metadata": {},
     "output_type": "execute_result"
    }
   ],
   "source": [
    "len(result_list)"
   ]
  },
  {
   "cell_type": "markdown",
   "metadata": {},
   "source": [
    "### 4. Plot Result"
   ]
  },
  {
   "cell_type": "code",
   "execution_count": 20,
   "metadata": {},
   "outputs": [
    {
     "data": {
      "text/plain": [
       "128.2833779"
      ]
     },
     "execution_count": 20,
     "metadata": {},
     "output_type": "execute_result"
    }
   ],
   "source": [
    "import pandas as pd\n",
    "Data2 = pd.read_csv(\"dataset/NN5.csv\")\n",
    "train2 = Data2.iloc[:,112]\n",
    "train2 = train2.values\n",
    "\n",
    "train2[0]"
   ]
  },
  {
   "cell_type": "code",
   "execution_count": 72,
   "metadata": {},
   "outputs": [
    {
     "name": "stderr",
     "output_type": "stream",
     "text": [
      "/var/folders/5j/5y70dmpj6gz7vm0lv4mwhnzc0000gn/T/ipykernel_3703/773066522.py:19: RuntimeWarning: divide by zero encountered in double_scalars\n",
      "  r1[i] = r1[i] / div\n",
      "/var/folders/5j/5y70dmpj6gz7vm0lv4mwhnzc0000gn/T/ipykernel_3703/773066522.py:20: RuntimeWarning: divide by zero encountered in double_scalars\n",
      "  r2[i] = r2[i] / div\n",
      "/var/folders/5j/5y70dmpj6gz7vm0lv4mwhnzc0000gn/T/ipykernel_3703/773066522.py:21: RuntimeWarning: divide by zero encountered in double_scalars\n",
      "  r4[i] = r4[i] / div\n"
     ]
    },
    {
     "data": {
      "image/png": "[encoded data removed]",
      "text/plain": [
       "<Figure size 640x480 with 2 Axes>"
      ]
     },
     "metadata": {},
     "output_type": "display_data"
    }
   ],
   "source": [
    "import pickle\n",
    "import matplotlib.pyplot as plt\n",
    "\n",
    "code = input('Code:')\n",
    "\n",
    "with open(f\"./result/{task}_FedOGD_{code}.pkl\", \"rb\") as f:\n",
    "    r1 = pickle.load(f)\n",
    "with open(f\"./result/{task}_OFedAvg_{code}.pkl\", \"rb\") as f:\n",
    "    r2 = pickle.load(f)\n",
    "# with open(f\"./result/{task}_FedOMD_{code}.pkl\", \"rb\") as f:\n",
    "#     r3 = pickle.load(f)\n",
    "with open(f\"./result/{task}_OFedIQ_{code}.pkl\", \"rb\") as f:\n",
    "    r4 = pickle.load(f)\n",
    "\n",
    "for i in range(len(r1)):\n",
    "    div = 0\n",
    "    for j in range(i):\n",
    "        div += train2[j]\n",
    "    r1[i] = r1[i] / div\n",
    "    r2[i] = r2[i] / div\n",
    "    r4[i] = r4[i] / div\n",
    "\n",
    "l1 = list(range(len(r1))) \n",
    "l2 = list(range(len(r2)))\n",
    "# l3 = list(range(len(r3)))\n",
    "l4 = list(range(len(r4)))\n",
    "\n",
    "fig, (ax1, ax2) = plt.subplots(2, 1, sharex=True)\n",
    "d = 0.7\n",
    "kwargs = dict(marker=[(-1, -d), (1, d)], markersize=15, linestyle=\"none\", color='k', clip_on=False)\n",
    "ax1.plot([0, 1], [0, 0], transform=ax1.transAxes, **kwargs)\n",
    "ax2.plot([0, 1], [1, 1], transform=ax2.transAxes, **kwargs)\n",
    "fig.subplots_adjust(hspace=0.1)\n",
    "\n",
    "ax1.set_yscale(\"log\")\n",
    "ax2.set_yscale(\"log\")\n",
    "\n",
    "ax1.set_ylim(0.01, 5)\n",
    "ax2.set_ylim(0.002, 0.01)\n",
    "\n",
    "ax1.set_yticks([0.01, 0.1, 1])\n",
    "ax2.set_yticks([0.005, 0.01])\n",
    "\n",
    "ax1.set_ylabel(\"\")\n",
    "ax2.set_ylabel(\"\")\n",
    "\n",
    "ax1.spines['bottom'].set_visible(False)\n",
    "ax2.spines['top'].set_visible(False)\n",
    "\n",
    "fig.text(0.02, 0.50, \"normalized MSE (t)\", va='center', rotation = 'vertical', fontsize = 10)\n",
    "\n",
    "\n",
    "ax1.plot(l1, r1, 'black', label=r'FedOGD')\n",
    "ax1.plot(l2, r2, 'red', label=r'OFedAvg ($\\mathdefault{p=0.01}$)')\n",
    "#ax.plot(l3, r3, 'blue', label=r'FedOMD ($\\mathdefault{L=10}$)')\n",
    "ax1.plot(l4, r4, 'green', label=r'OFedIQ ($\\mathdefault{p=0.086, s=3, b=9}$)')\n",
    "\n",
    "ax2.plot(l1, r1, 'black')\n",
    "ax2.plot(l2, r2, 'red')\n",
    "#plt.plot(l3, r3, 'blue', label=r'FedOMD ($\\mathdefault{L=10}$)')\n",
    "ax2.plot(l4, r4, 'green')\n",
    "\n",
    "ax2.set_xlabel('time step (t)')\n",
    "\n",
    "# if task == 'clf':\n",
    "#     plt.ylabel('Accuracy (t)')\n",
    "# elif task == 'reg' or task == 'time':\n",
    "#     plt.ylabel('normalized MSE (t)')\n",
    "#     plt.yscale(\"log\")\n",
    "\n",
    "plt.rcParams[\"font.family\"] = \"Times New Roman\"\n",
    "\n",
    "ax1.grid()\n",
    "ax2.grid()\n",
    "ax1.legend()\n",
    "#ax2.legend()\n",
    "\n",
    "plt.savefig(f'./Figures/{task}_{code}.png', dpi=200, facecolor=\"white\")\n",
    "plt.show()\n"
   ]
  },
  {
   "cell_type": "code",
   "execution_count": 39,
   "metadata": {},
   "outputs": [
    {
     "ename": "SyntaxError",
     "evalue": "invalid syntax (2768365245.py, line 1)",
     "output_type": "error",
     "traceback": [
      "\u001b[0;36m  Cell \u001b[0;32mIn[39], line 1\u001b[0;36m\u001b[0m\n\u001b[0;31m    client_num =\u001b[0m\n\u001b[0m                 ^\u001b[0m\n\u001b[0;31mSyntaxError\u001b[0m\u001b[0;31m:\u001b[0m invalid syntax\n"
     ]
    }
   ],
   "source": [
    "client_num = \n",
    "length = 39 #len(test)\n",
    "\n",
    "test_result = []\n",
    "test_result.append(test[client_num, window:length]) \n",
    "for model_num in range(len(Model_list)):\n",
    "    tmp_array = []\n",
    "    for i in range(length - window): \n",
    "        output = Model_list[model_num][client_num](test[client_num, i:i+window].reshape(1,window), training=False)\n",
    "        tmp_array.append(output.numpy().item())\n",
    "    test_result.append(tmp_array)\n",
    "\n",
    "r1 = test_result[0]\n",
    "r2 = test_result[1]\n",
    "r3 = test_result[2]\n",
    "r4 = test_result[3]\n",
    "\n",
    "l1 = list(range(90, 90+len(r1)))\n",
    "l2 = list(range(90, 90+len(r2)))\n",
    "l3 = list(range(90, 90+len(r3)))\n",
    "l4 = list(range(90, 90+len(r4)))\n",
    "\n",
    "plt.plot(l1, r1, 'gray', label=r'True Value')\n",
    "plt.plot(l2, r2, 'black', label=r'FedOGD')\n",
    "plt.plot(l3, r3, 'red', label=r'OFedAvg ($\\mathdefault{p=0.01}$)')\n",
    "plt.plot(l4, r4, 'green', label=r'OFedIQ ($\\mathdefault{p=0.086, s=3, b=9}$)')\n",
    "\n",
    "plt.xlabel('time step (t)')\n",
    "\n",
    "# if task == 'clf':\n",
    "#     plt.ylabel('Accuracy (t)')\n",
    "# elif task == 'reg' or task == 'time':\n",
    "#     #plt.ylabel('MSE (t)')\n",
    "#     #plt.yscale(\"log\")\n",
    "\n",
    "plt.title('Client 30')\n",
    "plt.rcParams[\"font.family\"] = \"Times New Roman\"\n",
    "plt.grid()\n",
    "plt.legend()\n",
    "\n",
    "plt.savefig(f'./Figures/{task}_FIG1.png', dpi=200, facecolor=\"white\")\n",
    "plt.show()"
   ]
  },
  {
   "cell_type": "markdown",
   "metadata": {},
   "source": []
  }
 ],
 "metadata": {
  "kernelspec": {
   "display_name": "Python 3",
   "language": "python",
   "name": "python3"
  },
  "language_info": {
   "codemirror_mode": {
    "name": "ipython",
    "version": 3
   },
   "file_extension": ".py",
   "mimetype": "text/x-python",
   "name": "python",
   "nbconvert_exporter": "python",
   "pygments_lexer": "ipython3",
   "version": "3.8.13"
  },
  "orig_nbformat": 4
 },
 "nbformat": 4,
 "nbformat_minor": 2
}
