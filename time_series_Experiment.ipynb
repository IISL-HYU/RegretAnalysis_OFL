{
 "cells": [
  {
   "cell_type": "markdown",
   "metadata": {},
   "source": [
    "## Regret Analysis of OFL - \\<Performance Experiments\\>"
   ]
  },
  {
   "cell_type": "markdown",
   "metadata": {},
   "source": [
    "### 1. Environment Setting"
   ]
  },
  {
   "cell_type": "code",
   "execution_count": 2,
   "metadata": {},
   "outputs": [],
   "source": [
    "import  torch\n",
    "import  numpy as np\n",
    "import  matplotlib.pyplot as plt\n",
    "from    keras import datasets\n",
    "import  import_ipynb\n",
    "\n",
    "from RegretBound import opt_param\n",
    "from data import  NN5_data\n",
    "from model import OFL_Model\n",
    "from utils import sigma_diff\n",
    "\n",
    "K = 1000        # Number of clients\n",
    "# D = 34826       # number of parameters (MNIST)\n",
    "# D = 4353        # (Air, Cond, Tom)\n",
    "#D = 4548         # (Room)\n",
    "P = 0.01        # Com. overhead reduction rate from FedOGD\n",
    "L = 8           # Local training time (Batch Size)\n",
    "\n",
    "# s, _, b, p = opt_param(P, D, show_result=False)\n",
    "# p2 = p * L\n",
    "# print(s, b, p, p2)"
   ]
  },
  {
   "cell_type": "markdown",
   "metadata": {},
   "source": [
    "### 2. Experiment Setting"
   ]
  },
  {
   "cell_type": "code",
   "execution_count": 3,
   "metadata": {},
   "outputs": [
    {
     "name": "stdout",
     "output_type": "stream",
     "text": [
      "734 56\n"
     ]
    }
   ],
   "source": [
    "#NN5\n",
    "train, test = NN5_data()\n",
    "task = 'time'\n",
    "\n",
    "print(len(train), len(test))"
   ]
  },
  {
   "cell_type": "code",
   "execution_count": 4,
   "metadata": {},
   "outputs": [
    {
     "name": "stdout",
     "output_type": "stream",
     "text": [
      "[19.94  12.273 10.573 14.073 10.728 11.749 16.695  8.206  9.566 11.465\n",
      " 12.727  9.028 12.684 12.854 11.069 10.573 15.249 19.118 12.613  9.864\n",
      " 12.684 12.628  5.944 20.876 11.409 13.743  4.11   9.34  13.039  7.823\n",
      "  9.552 14.654  8.829 24.646 11.508  5.952 14.215 21.287 12.585 11.905\n",
      " 12.769 11.876 18.197 13.109  9.198  9.099 19.94  16.185  8.702 12.727\n",
      "  9.442 13.204  8.39  12.23   6.931  6.944 14.821 10.429  7.299 13.138\n",
      "  9.1   10.008 11.06   8.956 16.202 17.149 20.41  37.835 10.521  8.89\n",
      "  9.771 10.863 14.479  9.258 13.546 12.927 13.177 13.361  9.666 12.322\n",
      "  4.629 10.06  18.161 13.204  9.311  8.548 11.783  7.851 12.625 10.784\n",
      " 10.258 10.31  20.213 15.742 17.254 18.359  4.945 14.085 11.573 12.296\n",
      " 18.835 15.079  6.193 17.404 13.152 10.87  11.848 10.714 14.598 15.306\n",
      "  9.666]\n"
     ]
    }
   ],
   "source": [
    "print(test[0])"
   ]
  },
  {
   "cell_type": "code",
   "execution_count": 19,
   "metadata": {},
   "outputs": [
    {
     "ename": "AttributeError",
     "evalue": "'AutoRegResults' object has no attribute 'y'",
     "output_type": "error",
     "traceback": [
      "\u001b[0;31m---------------------------------------------------------------------------\u001b[0m",
      "\u001b[0;31mAttributeError\u001b[0m                            Traceback (most recent call last)",
      "\u001b[1;32m/Users/kwondohyeok/Desktop/RegretAnalysis_OFL/time_series_Experiment.ipynb Cell 7\u001b[0m in \u001b[0;36m<module>\u001b[0;34m\u001b[0m\n\u001b[1;32m      <a href='vscode-notebook-cell:/Users/kwondohyeok/Desktop/RegretAnalysis_OFL/time_series_Experiment.ipynb#X22sZmlsZQ%3D%3D?line=2'>3</a>\u001b[0m model \u001b[39m=\u001b[39m AutoReg(train[:,\u001b[39m0\u001b[39m]\u001b[39m.\u001b[39mtranspose(), \u001b[39m8\u001b[39m, missing\u001b[39m=\u001b[39m\u001b[39m'\u001b[39m\u001b[39mdrop\u001b[39m\u001b[39m'\u001b[39m)\n\u001b[1;32m      <a href='vscode-notebook-cell:/Users/kwondohyeok/Desktop/RegretAnalysis_OFL/time_series_Experiment.ipynb#X22sZmlsZQ%3D%3D?line=3'>4</a>\u001b[0m model_fit \u001b[39m=\u001b[39m model\u001b[39m.\u001b[39mfit()\n\u001b[0;32m----> <a href='vscode-notebook-cell:/Users/kwondohyeok/Desktop/RegretAnalysis_OFL/time_series_Experiment.ipynb#X22sZmlsZQ%3D%3D?line=5'>6</a>\u001b[0m \u001b[39mprint\u001b[39m(model_fit\u001b[39m.\u001b[39;49my\u001b[39m.\u001b[39mL1)\n",
      "File \u001b[0;32m~/Library/Python/3.8/lib/python/site-packages/statsmodels/base/wrapper.py:34\u001b[0m, in \u001b[0;36mResultsWrapper.__getattribute__\u001b[0;34m(self, attr)\u001b[0m\n\u001b[1;32m     31\u001b[0m \u001b[39mexcept\u001b[39;00m \u001b[39mAttributeError\u001b[39;00m:\n\u001b[1;32m     32\u001b[0m     \u001b[39mpass\u001b[39;00m\n\u001b[0;32m---> 34\u001b[0m obj \u001b[39m=\u001b[39m \u001b[39mgetattr\u001b[39;49m(results, attr)\n\u001b[1;32m     35\u001b[0m data \u001b[39m=\u001b[39m results\u001b[39m.\u001b[39mmodel\u001b[39m.\u001b[39mdata\n\u001b[1;32m     36\u001b[0m how \u001b[39m=\u001b[39m \u001b[39mself\u001b[39m\u001b[39m.\u001b[39m_wrap_attrs\u001b[39m.\u001b[39mget(attr)\n",
      "\u001b[0;31mAttributeError\u001b[0m: 'AutoRegResults' object has no attribute 'y'"
     ]
    }
   ],
   "source": [
    "from statsmodels.tsa.ar_model import AutoReg\n",
    "\n",
    "model = AutoReg(train[:,0].transpose(), 8, missing='drop')\n",
    "model_fit = model.fit()\n",
    "\n",
    "print(model_fit.y.L1)"
   ]
  },
  {
   "cell_type": "code",
   "execution_count": null,
   "metadata": {},
   "outputs": [
    {
     "name": "stderr",
     "output_type": "stream",
     "text": [
      "2023-01-06 02:36:14.784605: I tensorflow/core/platform/cpu_feature_guard.cc:151] This TensorFlow binary is optimized with oneAPI Deep Neural Network Library (oneDNN) to use the following CPU instructions in performance-critical operations:  AVX2 FMA\n",
      "To enable them in other operations, rebuild TensorFlow with the appropriate compiler flags.\n"
     ]
    }
   ],
   "source": [
    "Model_list = []\n",
    "\n",
    "Model_list.append(OFL_Model('FedOGD', task, K, [False, 0, 0], 1, 1, input_size))\n",
    "Model_list.append(OFL_Model('OFedAvg', task, K, [False, 0, 0], P, 1, input_size))\n",
    "Model_list.append(OFL_Model('FedOMD', task, K, [False, 0, 0], 1, int(1/P), input_size))\n",
    "Model_list.append(OFL_Model('OFedIQ', task, K, [True, s, b], p, 1, input_size))\n",
    "#Model_list.append(OFL_Model('OFedIQ(L=8)', task, K, [True, s, b], p2, L, input_size))\n"
   ]
  },
  {
   "cell_type": "markdown",
   "metadata": {},
   "source": [
    "### 3. Training"
   ]
  },
  {
   "cell_type": "code",
   "execution_count": null,
   "metadata": {},
   "outputs": [
    {
     "name": "stdout",
     "output_type": "stream",
     "text": [
      "20 18\n"
     ]
    }
   ],
   "source": [
    "i_max = len(y_train) // K\n",
    "iter_max = 20\n",
    "print(iter_max, i_max)\n",
    "\n",
    "#iter = 15,60 / 80,4 / 40, 9"
   ]
  },
  {
   "cell_type": "code",
   "execution_count": null,
   "metadata": {},
   "outputs": [
    {
     "name": "stdout",
     "output_type": "stream",
     "text": [
      "0,1,2,3,4,5,6,7,8,9,10,11,12,13,14,15,16,17,18,19,\n",
      "0,1,2,3,4,5,6,7,8,9,10,11,12,13,14,15,16,17,18,19,\n",
      "0,1,2,3,4,5,6,7,8,9,10,11,12,13,14,15,16,17,18,19,\n",
      "0,1,2,3,4,5,6,7,8,9,10,11,12,13,14,15,16,17,18,19,\n"
     ]
    }
   ],
   "source": [
    "for model in Model_list:\n",
    "    for iter in range(iter_max):\n",
    "        for i in range(i_max):\n",
    "            model.train(x_train[K*i : K*(i+1)], y_train[K*i : K*(i+1)], ((i_max * iter) + (i+1)) % model.L)\n",
    "        print(iter, end =',')\n",
    "    print()\n",
    "\n",
    "result_list = []\n",
    "for model in Model_list:\n",
    "    result_list.append(model.pull_result())"
   ]
  },
  {
   "cell_type": "markdown",
   "metadata": {},
   "source": [
    "### 3. Save Result"
   ]
  },
  {
   "cell_type": "code",
   "execution_count": null,
   "metadata": {},
   "outputs": [],
   "source": [
    "import pickle\n",
    "\n",
    "#Code: data / data_90\n",
    "code = input(\"Code: \")\n",
    "\n",
    "for i, model in enumerate(Model_list):\n",
    "    name = model.name\n",
    "    with open(f\"./result/{task}_{name}_{code}.pkl\",\"wb\") as f:\n",
    "        pickle.dump(result_list[i], f)"
   ]
  },
  {
   "cell_type": "markdown",
   "metadata": {},
   "source": [
    "### 4. Plot Result"
   ]
  },
  {
   "cell_type": "code",
   "execution_count": null,
   "metadata": {},
   "outputs": [
    {
     "ename": "FileNotFoundError",
     "evalue": "[Errno 2] No such file or directory: './result/reg_FedOGD_Energy.pkl'",
     "output_type": "error",
     "traceback": [
      "\u001b[0;31m---------------------------------------------------------------------------\u001b[0m\n",
      "\u001b[0;31mFileNotFoundError\u001b[0m                         Traceback (most recent call last)\n",
      "\u001b[1;32m/Users/kwondohyeok/Desktop/RegretAnalysis_OFL/Experiments.ipynb Cell 14\u001b[0m in \u001b[0;36m<module>\u001b[0;34m\u001b[0m\n",
      "\u001b[1;32m      <a href='vscode-notebook-cell:/Users/kwondohyeok/Desktop/RegretAnalysis_OFL/Experiments.ipynb#X16sZmlsZQ%3D%3D?line=1'>2</a>\u001b[0m \u001b[39mimport\u001b[39;00m \u001b[39mmatplotlib\u001b[39;00m\u001b[39m.\u001b[39;00m\u001b[39mpyplot\u001b[39;00m  \u001b[39mas\u001b[39;00m \u001b[39mplt\u001b[39;00m\n",
      "\u001b[1;32m      <a href='vscode-notebook-cell:/Users/kwondohyeok/Desktop/RegretAnalysis_OFL/Experiments.ipynb#X16sZmlsZQ%3D%3D?line=3'>4</a>\u001b[0m code \u001b[39m=\u001b[39m \u001b[39minput\u001b[39m(\u001b[39m'\u001b[39m\u001b[39mCode:\u001b[39m\u001b[39m'\u001b[39m)\n",
      "\u001b[0;32m----> <a href='vscode-notebook-cell:/Users/kwondohyeok/Desktop/RegretAnalysis_OFL/Experiments.ipynb#X16sZmlsZQ%3D%3D?line=5'>6</a>\u001b[0m \u001b[39mwith\u001b[39;00m \u001b[39mopen\u001b[39;49m(\u001b[39mf\u001b[39;49m\u001b[39m\"\u001b[39;49m\u001b[39m./result/\u001b[39;49m\u001b[39m{\u001b[39;49;00mtask\u001b[39m}\u001b[39;49;00m\u001b[39m_FedOGD_\u001b[39;49m\u001b[39m{\u001b[39;49;00mcode\u001b[39m}\u001b[39;49;00m\u001b[39m.pkl\u001b[39;49m\u001b[39m\"\u001b[39;49m, \u001b[39m\"\u001b[39;49m\u001b[39mrb\u001b[39;49m\u001b[39m\"\u001b[39;49m) \u001b[39mas\u001b[39;00m f:\n",
      "\u001b[1;32m      <a href='vscode-notebook-cell:/Users/kwondohyeok/Desktop/RegretAnalysis_OFL/Experiments.ipynb#X16sZmlsZQ%3D%3D?line=6'>7</a>\u001b[0m     r1 \u001b[39m=\u001b[39m pickle\u001b[39m.\u001b[39mload(f)\n",
      "\u001b[1;32m      <a href='vscode-notebook-cell:/Users/kwondohyeok/Desktop/RegretAnalysis_OFL/Experiments.ipynb#X16sZmlsZQ%3D%3D?line=7'>8</a>\u001b[0m \u001b[39mwith\u001b[39;00m \u001b[39mopen\u001b[39m(\u001b[39mf\u001b[39m\u001b[39m\"\u001b[39m\u001b[39m./result/\u001b[39m\u001b[39m{\u001b[39;00mtask\u001b[39m}\u001b[39;00m\u001b[39m_OFedAvg_\u001b[39m\u001b[39m{\u001b[39;00mcode\u001b[39m}\u001b[39;00m\u001b[39m.pkl\u001b[39m\u001b[39m\"\u001b[39m, \u001b[39m\"\u001b[39m\u001b[39mrb\u001b[39m\u001b[39m\"\u001b[39m) \u001b[39mas\u001b[39;00m f:\n",
      "\n",
      "\u001b[0;31mFileNotFoundError\u001b[0m: [Errno 2] No such file or directory: './result/reg_FedOGD_Energy.pkl'"
     ]
    }
   ],
   "source": [
    "import pickle\n",
    "import matplotlib.pyplot  as plt\n",
    "\n",
    "code = input('Code:')\n",
    "\n",
    "with open(f\"./result/{task}_FedOGD_{code}.pkl\", \"rb\") as f:\n",
    "    r1 = pickle.load(f)\n",
    "with open(f\"./result/{task}_OFedAvg_{code}.pkl\", \"rb\") as f:\n",
    "    r2 = pickle.load(f)\n",
    "with open(f\"./result/{task}_FedOMD_{code}.pkl\", \"rb\") as f:\n",
    "    r3 = pickle.load(f)\n",
    "with open(f\"./result/{task}_OFedIQ_{code}.pkl\", \"rb\") as f:\n",
    "    r4 = pickle.load(f)\n",
    "\n",
    "l1 = list(range(len(r1))) \n",
    "l2 = list(range(len(r2)))\n",
    "l3 = list(range(len(r3)))\n",
    "l4 = list(range(len(r4)))\n",
    "\n",
    "plt.plot(l1, r1, 'black', label=r'FedOGD')\n",
    "plt.plot(l2, r2, 'red', label=r'OFedAvg ($\\mathdefault{p=0.1}$)')\n",
    "plt.plot(l3, r3, 'blue', label=r'FedOMD ($\\mathdefault{L=10}$)')\n",
    "plt.plot(l4, r4, 'green', label=r'OFedIQ ($\\mathdefault{p=0.5151}$)')\n",
    "\n",
    "plt.xlabel('time step (t)')\n",
    "\n",
    "if task == 'clf':\n",
    "    plt.ylabel('Accuracy (t)')\n",
    "elif task == 'reg':\n",
    "    plt.ylabel('MSE (t)')\n",
    "    #plt.yscale(\"log\")\n",
    "\n",
    "plt.rcParams[\"font.family\"] = \"Times New Roman\"\n",
    "plt.grid()\n",
    "plt.legend()\n",
    "\n",
    "plt.savefig(f'./Figures/{task}_{code}.png', dpi=200, facecolor=\"white\")\n",
    "plt.show()\n"
   ]
  }
 ],
 "metadata": {
  "kernelspec": {
   "display_name": "Python 3",
   "language": "python",
   "name": "python3"
  },
  "language_info": {
   "codemirror_mode": {
    "name": "ipython",
    "version": 3
   },
   "file_extension": ".py",
   "mimetype": "text/x-python",
   "name": "python",
   "nbconvert_exporter": "python",
   "pygments_lexer": "ipython3",
   "version": "3.8.9"
  },
  "orig_nbformat": 4
 },
 "nbformat": 4,
 "nbformat_minor": 2
}
